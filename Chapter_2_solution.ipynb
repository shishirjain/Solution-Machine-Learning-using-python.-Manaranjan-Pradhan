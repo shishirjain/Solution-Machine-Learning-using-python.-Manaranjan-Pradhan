{
  "nbformat": 4,
  "nbformat_minor": 0,
  "metadata": {
    "colab": {
      "name": "Chapter 2 solution",
      "provenance": [],
      "authorship_tag": "ABX9TyNL3WfuZ6Dbc2QwuwqlNGxQ",
      "include_colab_link": true
    },
    "kernelspec": {
      "name": "python3",
      "display_name": "Python 3"
    },
    "language_info": {
      "name": "python"
    }
  },
  "cells": [
    {
      "cell_type": "markdown",
      "metadata": {
        "id": "view-in-github",
        "colab_type": "text"
      },
      "source": [
        "<a href=\"https://colab.research.google.com/github/shishirjain/Solution-Machine-Learning-using-python.-Manaranjan-Pradhan/blob/main/Chapter_2_solution.ipynb\" target=\"_parent\"><img src=\"https://colab.research.google.com/assets/colab-badge.svg\" alt=\"Open In Colab\"/></a>"
      ]
    },
    {
      "cell_type": "code",
      "metadata": {
        "id": "izE9pzL2SZ8F"
      },
      "source": [
        "import pandas as pd\n",
        "import numpy as np\n",
        "import matplotlib.pyplot as plt\n",
        "%matplotlib inline\n",
        "import seaborn as sns"
      ],
      "execution_count": null,
      "outputs": []
    },
    {
      "cell_type": "code",
      "metadata": {
        "id": "TP9Wp51beWEh"
      },
      "source": [
        "import warnings\n",
        "warnings.filterwarnings('ignore')"
      ],
      "execution_count": null,
      "outputs": []
    },
    {
      "cell_type": "code",
      "metadata": {
        "id": "5xPIRucYSwpv"
      },
      "source": [
        "df=pd.read_csv('/content/bollywood.csv',index_col=['SlNo'])"
      ],
      "execution_count": null,
      "outputs": []
    },
    {
      "cell_type": "code",
      "metadata": {
        "colab": {
          "base_uri": "https://localhost:8080/",
          "height": 235
        },
        "id": "VmJkryAIS_r8",
        "outputId": "ede3da21-1aa2-46c3-eb6d-a7720734377e"
      },
      "source": [
        "df.head()"
      ],
      "execution_count": null,
      "outputs": [
        {
          "output_type": "execute_result",
          "data": {
            "text/html": [
              "<div>\n",
              "<style scoped>\n",
              "    .dataframe tbody tr th:only-of-type {\n",
              "        vertical-align: middle;\n",
              "    }\n",
              "\n",
              "    .dataframe tbody tr th {\n",
              "        vertical-align: top;\n",
              "    }\n",
              "\n",
              "    .dataframe thead th {\n",
              "        text-align: right;\n",
              "    }\n",
              "</style>\n",
              "<table border=\"1\" class=\"dataframe\">\n",
              "  <thead>\n",
              "    <tr style=\"text-align: right;\">\n",
              "      <th></th>\n",
              "      <th>Release Date</th>\n",
              "      <th>MovieName</th>\n",
              "      <th>ReleaseTime</th>\n",
              "      <th>Genre</th>\n",
              "      <th>Budget</th>\n",
              "      <th>BoxOfficeCollection</th>\n",
              "      <th>YoutubeViews</th>\n",
              "      <th>YoutubeLikes</th>\n",
              "      <th>YoutubeDislikes</th>\n",
              "    </tr>\n",
              "    <tr>\n",
              "      <th>SlNo</th>\n",
              "      <th></th>\n",
              "      <th></th>\n",
              "      <th></th>\n",
              "      <th></th>\n",
              "      <th></th>\n",
              "      <th></th>\n",
              "      <th></th>\n",
              "      <th></th>\n",
              "      <th></th>\n",
              "    </tr>\n",
              "  </thead>\n",
              "  <tbody>\n",
              "    <tr>\n",
              "      <th>1</th>\n",
              "      <td>18-Apr-14</td>\n",
              "      <td>2 States</td>\n",
              "      <td>LW</td>\n",
              "      <td>Romance</td>\n",
              "      <td>36</td>\n",
              "      <td>104.00</td>\n",
              "      <td>8576361</td>\n",
              "      <td>26622</td>\n",
              "      <td>2527</td>\n",
              "    </tr>\n",
              "    <tr>\n",
              "      <th>2</th>\n",
              "      <td>4-Jan-13</td>\n",
              "      <td>Table No. 21</td>\n",
              "      <td>N</td>\n",
              "      <td>Thriller</td>\n",
              "      <td>10</td>\n",
              "      <td>12.00</td>\n",
              "      <td>1087320</td>\n",
              "      <td>1129</td>\n",
              "      <td>137</td>\n",
              "    </tr>\n",
              "    <tr>\n",
              "      <th>3</th>\n",
              "      <td>18-Jul-14</td>\n",
              "      <td>Amit Sahni Ki List</td>\n",
              "      <td>N</td>\n",
              "      <td>Comedy</td>\n",
              "      <td>10</td>\n",
              "      <td>4.00</td>\n",
              "      <td>572336</td>\n",
              "      <td>586</td>\n",
              "      <td>54</td>\n",
              "    </tr>\n",
              "    <tr>\n",
              "      <th>4</th>\n",
              "      <td>4-Jan-13</td>\n",
              "      <td>Rajdhani Express</td>\n",
              "      <td>N</td>\n",
              "      <td>Drama</td>\n",
              "      <td>7</td>\n",
              "      <td>0.35</td>\n",
              "      <td>42626</td>\n",
              "      <td>86</td>\n",
              "      <td>19</td>\n",
              "    </tr>\n",
              "    <tr>\n",
              "      <th>5</th>\n",
              "      <td>4-Jul-14</td>\n",
              "      <td>Bobby Jasoos</td>\n",
              "      <td>N</td>\n",
              "      <td>Comedy</td>\n",
              "      <td>18</td>\n",
              "      <td>10.80</td>\n",
              "      <td>3113427</td>\n",
              "      <td>4512</td>\n",
              "      <td>1224</td>\n",
              "    </tr>\n",
              "  </tbody>\n",
              "</table>\n",
              "</div>"
            ],
            "text/plain": [
              "     Release Date           MovieName  ... YoutubeLikes YoutubeDislikes\n",
              "SlNo                                   ...                             \n",
              "1       18-Apr-14            2 States  ...        26622            2527\n",
              "2        4-Jan-13        Table No. 21  ...         1129             137\n",
              "3       18-Jul-14  Amit Sahni Ki List  ...          586              54\n",
              "4        4-Jan-13    Rajdhani Express  ...           86              19\n",
              "5        4-Jul-14        Bobby Jasoos  ...         4512            1224\n",
              "\n",
              "[5 rows x 9 columns]"
            ]
          },
          "metadata": {
            "tags": []
          },
          "execution_count": 157
        }
      ]
    },
    {
      "cell_type": "markdown",
      "metadata": {
        "id": "FMdMUgnkxjQA"
      },
      "source": [
        "1. How many records are present in the dataset? Print the metadata information of the dataset."
      ]
    },
    {
      "cell_type": "code",
      "metadata": {
        "colab": {
          "base_uri": "https://localhost:8080/"
        },
        "id": "WX_mno0UTAvx",
        "outputId": "f833ec3a-bbd7-48b8-a5ac-de6a058d35b9"
      },
      "source": [
        "df.info()"
      ],
      "execution_count": null,
      "outputs": [
        {
          "output_type": "stream",
          "text": [
            "<class 'pandas.core.frame.DataFrame'>\n",
            "Int64Index: 149 entries, 1 to 149\n",
            "Data columns (total 9 columns):\n",
            " #   Column               Non-Null Count  Dtype  \n",
            "---  ------               --------------  -----  \n",
            " 0   Release Date         149 non-null    object \n",
            " 1   MovieName            149 non-null    object \n",
            " 2   ReleaseTime          149 non-null    object \n",
            " 3   Genre                149 non-null    object \n",
            " 4   Budget               149 non-null    int64  \n",
            " 5   BoxOfficeCollection  149 non-null    float64\n",
            " 6   YoutubeViews         149 non-null    int64  \n",
            " 7   YoutubeLikes         149 non-null    int64  \n",
            " 8   YoutubeDislikes      149 non-null    int64  \n",
            "dtypes: float64(1), int64(4), object(4)\n",
            "memory usage: 11.6+ KB\n"
          ],
          "name": "stdout"
        }
      ]
    },
    {
      "cell_type": "markdown",
      "metadata": {
        "id": "d-t1r3wXxuN0"
      },
      "source": [
        "2. How many movies got released in each genre? Which genre had highest number of releases? Sort\n",
        "number of releases in each genre in descending order."
      ]
    },
    {
      "cell_type": "code",
      "metadata": {
        "colab": {
          "base_uri": "https://localhost:8080/"
        },
        "id": "U6Fykmv6THPs",
        "outputId": "715989c2-59fe-4fd4-c80a-0b84c777c9b8"
      },
      "source": [
        "df['Genre'].value_counts().sort_values(ascending=False)"
      ],
      "execution_count": null,
      "outputs": [
        {
          "output_type": "execute_result",
          "data": {
            "text/plain": [
              "Comedy       36\n",
              " Drama       35\n",
              "Thriller     26\n",
              "Romance      25\n",
              "Action       21\n",
              "Action        3\n",
              "Thriller      3\n",
              "Name: Genre, dtype: int64"
            ]
          },
          "metadata": {
            "tags": []
          },
          "execution_count": 159
        }
      ]
    },
    {
      "cell_type": "markdown",
      "metadata": {
        "id": "lspP6LC4yiwt"
      },
      "source": [
        "3. How many movies in each genre got released in different release times like long weekend, festive\n",
        "season, etc. (Note: Do a cross tabulation between Genre and ReleaseTime.)"
      ]
    },
    {
      "cell_type": "code",
      "metadata": {
        "id": "UD2_uQsmTzJ5",
        "colab": {
          "base_uri": "https://localhost:8080/",
          "height": 328
        },
        "outputId": "f7d4f12e-61a5-42ec-9a0e-c8c40c6a4113"
      },
      "source": [
        "pd.crosstab(index=df['Genre'], columns=df['ReleaseTime'],margins=True,margins_name='Total')"
      ],
      "execution_count": null,
      "outputs": [
        {
          "output_type": "execute_result",
          "data": {
            "text/html": [
              "<div>\n",
              "<style scoped>\n",
              "    .dataframe tbody tr th:only-of-type {\n",
              "        vertical-align: middle;\n",
              "    }\n",
              "\n",
              "    .dataframe tbody tr th {\n",
              "        vertical-align: top;\n",
              "    }\n",
              "\n",
              "    .dataframe thead th {\n",
              "        text-align: right;\n",
              "    }\n",
              "</style>\n",
              "<table border=\"1\" class=\"dataframe\">\n",
              "  <thead>\n",
              "    <tr style=\"text-align: right;\">\n",
              "      <th>ReleaseTime</th>\n",
              "      <th>FS</th>\n",
              "      <th>HS</th>\n",
              "      <th>LW</th>\n",
              "      <th>N</th>\n",
              "      <th>Total</th>\n",
              "    </tr>\n",
              "    <tr>\n",
              "      <th>Genre</th>\n",
              "      <th></th>\n",
              "      <th></th>\n",
              "      <th></th>\n",
              "      <th></th>\n",
              "      <th></th>\n",
              "    </tr>\n",
              "  </thead>\n",
              "  <tbody>\n",
              "    <tr>\n",
              "      <th>Drama</th>\n",
              "      <td>4</td>\n",
              "      <td>6</td>\n",
              "      <td>1</td>\n",
              "      <td>24</td>\n",
              "      <td>35</td>\n",
              "    </tr>\n",
              "    <tr>\n",
              "      <th>Action</th>\n",
              "      <td>3</td>\n",
              "      <td>3</td>\n",
              "      <td>3</td>\n",
              "      <td>12</td>\n",
              "      <td>21</td>\n",
              "    </tr>\n",
              "    <tr>\n",
              "      <th>Action</th>\n",
              "      <td>0</td>\n",
              "      <td>0</td>\n",
              "      <td>0</td>\n",
              "      <td>3</td>\n",
              "      <td>3</td>\n",
              "    </tr>\n",
              "    <tr>\n",
              "      <th>Comedy</th>\n",
              "      <td>3</td>\n",
              "      <td>5</td>\n",
              "      <td>5</td>\n",
              "      <td>23</td>\n",
              "      <td>36</td>\n",
              "    </tr>\n",
              "    <tr>\n",
              "      <th>Romance</th>\n",
              "      <td>3</td>\n",
              "      <td>3</td>\n",
              "      <td>4</td>\n",
              "      <td>15</td>\n",
              "      <td>25</td>\n",
              "    </tr>\n",
              "    <tr>\n",
              "      <th>Thriller</th>\n",
              "      <td>4</td>\n",
              "      <td>1</td>\n",
              "      <td>1</td>\n",
              "      <td>20</td>\n",
              "      <td>26</td>\n",
              "    </tr>\n",
              "    <tr>\n",
              "      <th>Thriller</th>\n",
              "      <td>0</td>\n",
              "      <td>0</td>\n",
              "      <td>1</td>\n",
              "      <td>2</td>\n",
              "      <td>3</td>\n",
              "    </tr>\n",
              "    <tr>\n",
              "      <th>Total</th>\n",
              "      <td>17</td>\n",
              "      <td>18</td>\n",
              "      <td>15</td>\n",
              "      <td>99</td>\n",
              "      <td>149</td>\n",
              "    </tr>\n",
              "  </tbody>\n",
              "</table>\n",
              "</div>"
            ],
            "text/plain": [
              "ReleaseTime  FS  HS  LW   N  Total\n",
              "Genre                             \n",
              " Drama        4   6   1  24     35\n",
              "Action        3   3   3  12     21\n",
              "Action        0   0   0   3      3\n",
              "Comedy        3   5   5  23     36\n",
              "Romance       3   3   4  15     25\n",
              "Thriller      4   1   1  20     26\n",
              "Thriller      0   0   1   2      3\n",
              "Total        17  18  15  99    149"
            ]
          },
          "metadata": {
            "tags": []
          },
          "execution_count": 160
        }
      ]
    },
    {
      "cell_type": "markdown",
      "metadata": {
        "id": "PF6Wfk7u_eNi"
      },
      "source": [
        "4. Which month of the year, maximum number movie releases are seen? (Note: Extract a new column\n",
        "called month from ReleaseDate column.)"
      ]
    },
    {
      "cell_type": "code",
      "metadata": {
        "id": "LyIbh2j5UVLH"
      },
      "source": [
        "df['Release Date']=pd.to_datetime(df['Release Date'])"
      ],
      "execution_count": null,
      "outputs": []
    },
    {
      "cell_type": "code",
      "metadata": {
        "id": "kZcPUyx0WPHR",
        "colab": {
          "base_uri": "https://localhost:8080/"
        },
        "outputId": "f40b0939-9c2d-46c6-d81d-0793c77197c5"
      },
      "source": [
        "np.dtype(df['Release Date'])"
      ],
      "execution_count": null,
      "outputs": [
        {
          "output_type": "execute_result",
          "data": {
            "text/plain": [
              "dtype('<M8[ns]')"
            ]
          },
          "metadata": {
            "tags": []
          },
          "execution_count": 162
        }
      ]
    },
    {
      "cell_type": "code",
      "metadata": {
        "id": "04BcA2SsWnLP"
      },
      "source": [
        "df['Month_of_release']=df['Release Date'].dt.month_name()"
      ],
      "execution_count": null,
      "outputs": []
    },
    {
      "cell_type": "code",
      "metadata": {
        "id": "3YhbaRUmaE9i",
        "colab": {
          "base_uri": "https://localhost:8080/",
          "height": 35
        },
        "outputId": "1f6014f7-c847-4f34-f0ce-18216c72e571"
      },
      "source": [
        "df['Month_of_release'].value_counts().idxmax()"
      ],
      "execution_count": null,
      "outputs": [
        {
          "output_type": "execute_result",
          "data": {
            "application/vnd.google.colaboratory.intrinsic+json": {
              "type": "string"
            },
            "text/plain": [
              "'January'"
            ]
          },
          "metadata": {
            "tags": []
          },
          "execution_count": 164
        }
      ]
    },
    {
      "cell_type": "markdown",
      "metadata": {
        "id": "fl55IkBSEtQ3"
      },
      "source": [
        "5. Which month of the year typically sees most releases of high budgeted movies, that is, movies with\n",
        "budget of 25 crore or more?"
      ]
    },
    {
      "cell_type": "code",
      "metadata": {
        "colab": {
          "base_uri": "https://localhost:8080/",
          "height": 35
        },
        "id": "3Z2qT4cFBL8l",
        "outputId": "09ffc84a-919e-4b28-b88c-055ef7b1eb7e"
      },
      "source": [
        "df[['Month_of_release','Budget']].where(df['Budget']>25,).value_counts('Month_of_release').idxmax()"
      ],
      "execution_count": null,
      "outputs": [
        {
          "output_type": "execute_result",
          "data": {
            "application/vnd.google.colaboratory.intrinsic+json": {
              "type": "string"
            },
            "text/plain": [
              "'February'"
            ]
          },
          "metadata": {
            "tags": []
          },
          "execution_count": 165
        }
      ]
    },
    {
      "cell_type": "markdown",
      "metadata": {
        "id": "geiCjX2QT4h6"
      },
      "source": [
        "\n",
        "6. Which are the top 10 movies with maximum return on investment (ROI)? Calculate return on\n",
        "investment (ROI) as (BoxOfficeCollection – Budget) / Budget."
      ]
    },
    {
      "cell_type": "code",
      "metadata": {
        "colab": {
          "base_uri": "https://localhost:8080/",
          "height": 359
        },
        "id": "DjYxqQf1Bijd",
        "outputId": "edecc6ac-8d3c-4440-a313-6d41dc9e3662"
      },
      "source": [
        "df['ROI']=(df['BoxOfficeCollection']-df['Budget'])/df['Budget']\n",
        "df[['MovieName','ROI']].sort_values(by=['ROI'],ascending=False)[0:9]"
      ],
      "execution_count": null,
      "outputs": [
        {
          "output_type": "execute_result",
          "data": {
            "text/html": [
              "<div>\n",
              "<style scoped>\n",
              "    .dataframe tbody tr th:only-of-type {\n",
              "        vertical-align: middle;\n",
              "    }\n",
              "\n",
              "    .dataframe tbody tr th {\n",
              "        vertical-align: top;\n",
              "    }\n",
              "\n",
              "    .dataframe thead th {\n",
              "        text-align: right;\n",
              "    }\n",
              "</style>\n",
              "<table border=\"1\" class=\"dataframe\">\n",
              "  <thead>\n",
              "    <tr style=\"text-align: right;\">\n",
              "      <th></th>\n",
              "      <th>MovieName</th>\n",
              "      <th>ROI</th>\n",
              "    </tr>\n",
              "    <tr>\n",
              "      <th>SlNo</th>\n",
              "      <th></th>\n",
              "      <th></th>\n",
              "    </tr>\n",
              "  </thead>\n",
              "  <tbody>\n",
              "    <tr>\n",
              "      <th>65</th>\n",
              "      <td>Aashiqui 2</td>\n",
              "      <td>8.166667</td>\n",
              "    </tr>\n",
              "    <tr>\n",
              "      <th>90</th>\n",
              "      <td>PK</td>\n",
              "      <td>7.647059</td>\n",
              "    </tr>\n",
              "    <tr>\n",
              "      <th>133</th>\n",
              "      <td>Grand Masti</td>\n",
              "      <td>7.514286</td>\n",
              "    </tr>\n",
              "    <tr>\n",
              "      <th>136</th>\n",
              "      <td>The Lunchbox</td>\n",
              "      <td>7.500000</td>\n",
              "    </tr>\n",
              "    <tr>\n",
              "      <th>88</th>\n",
              "      <td>Fukrey</td>\n",
              "      <td>6.240000</td>\n",
              "    </tr>\n",
              "    <tr>\n",
              "      <th>59</th>\n",
              "      <td>Mary Kom</td>\n",
              "      <td>5.933333</td>\n",
              "    </tr>\n",
              "    <tr>\n",
              "      <th>129</th>\n",
              "      <td>Shahid</td>\n",
              "      <td>5.666667</td>\n",
              "    </tr>\n",
              "    <tr>\n",
              "      <th>38</th>\n",
              "      <td>Humpty Sharma Ki Dulhania</td>\n",
              "      <td>5.500000</td>\n",
              "    </tr>\n",
              "    <tr>\n",
              "      <th>102</th>\n",
              "      <td>Bhaag Milkha Bhaag</td>\n",
              "      <td>4.466667</td>\n",
              "    </tr>\n",
              "  </tbody>\n",
              "</table>\n",
              "</div>"
            ],
            "text/plain": [
              "                      MovieName       ROI\n",
              "SlNo                                     \n",
              "65                   Aashiqui 2  8.166667\n",
              "90                           PK  7.647059\n",
              "133                 Grand Masti  7.514286\n",
              "136                The Lunchbox  7.500000\n",
              "88                       Fukrey  6.240000\n",
              "59                     Mary Kom  5.933333\n",
              "129                      Shahid  5.666667\n",
              "38    Humpty Sharma Ki Dulhania  5.500000\n",
              "102          Bhaag Milkha Bhaag  4.466667"
            ]
          },
          "metadata": {
            "tags": []
          },
          "execution_count": 166
        }
      ]
    },
    {
      "cell_type": "markdown",
      "metadata": {
        "id": "CR8bgjOSWAEA"
      },
      "source": [
        "7. Do the movies have higher ROI if they get released on festive seasons or long weekend? Calculate\n",
        "the average ROI for different release times."
      ]
    },
    {
      "cell_type": "code",
      "metadata": {
        "colab": {
          "base_uri": "https://localhost:8080/",
          "height": 301
        },
        "id": "PWzhA8dpVcLG",
        "outputId": "1aea7111-7f6a-43d7-cbeb-6a12ac268cb5"
      },
      "source": [
        "df.groupby('ReleaseTime')['ROI'].mean().sort_values().plot(kind='bar')\n",
        "#As we can see from the plot that movies release on Longweekend or Festive season have more average ROI "
      ],
      "execution_count": null,
      "outputs": [
        {
          "output_type": "execute_result",
          "data": {
            "text/plain": [
              "<matplotlib.axes._subplots.AxesSubplot at 0x7fdceb961d90>"
            ]
          },
          "metadata": {
            "tags": []
          },
          "execution_count": 167
        },
        {
          "output_type": "display_data",
          "data": {
            "image/png": "[encoded data removed]",
            "text/plain": [
              "<Figure size 432x288 with 1 Axes>"
            ]
          },
          "metadata": {
            "tags": [],
            "needs_background": "light"
          }
        }
      ]
    },
    {
      "cell_type": "markdown",
      "metadata": {
        "id": "-m9Af0FLc8pa"
      },
      "source": [
        "8. Draw a histogram and a distribution plot to find out the distribution of movie budgets. Interpret the\n",
        "plot to conclude if the most movies are high or low budgeted movies."
      ]
    },
    {
      "cell_type": "code",
      "metadata": {
        "colab": {
          "base_uri": "https://localhost:8080/",
          "height": 369
        },
        "id": "u0g-w0I3Wb61",
        "outputId": "f42414ed-ca96-4904-edce-51be60e814d8"
      },
      "source": [
        "sns.displot(df['Budget'],kde=True,color='r'),sns.histplot(df['Budget'],color='g')\n",
        "\n",
        "plt.show()\n",
        "#We can clearly see that most of the movies are low budget i.e less than 40 cr"
      ],
      "execution_count": null,
      "outputs": [
        {
          "output_type": "display_data",
          "data": {
            "image/png": "[encoded data removed]",
            "text/plain": [
              "<Figure size 360x360 with 1 Axes>"
            ]
          },
          "metadata": {
            "tags": [],
            "needs_background": "light"
          }
        }
      ]
    },
    {
      "cell_type": "markdown",
      "metadata": {
        "id": "5i-kpGzZ_WBO"
      },
      "source": [
        "9. Compare the distribution of ROIs between movies with comedy genre and drama. Which genre\n",
        "typically sees higher ROIs?"
      ]
    },
    {
      "cell_type": "code",
      "metadata": {
        "colab": {
          "base_uri": "https://localhost:8080/",
          "height": 386
        },
        "id": "2ROedpL4_VoL",
        "outputId": "54b1e341-6082-4eea-98dd-c0b84c6f7433"
      },
      "source": [
        "sns.displot(data=df[df['Genre'].isin([' Drama ','Comedy'])],x='ROI',hue='Genre',kind='kde',fill=True,)\n"
      ],
      "execution_count": null,
      "outputs": [
        {
          "output_type": "execute_result",
          "data": {
            "text/plain": [
              "<seaborn.axisgrid.FacetGrid at 0x7fdceb8f5ed0>"
            ]
          },
          "metadata": {
            "tags": []
          },
          "execution_count": 169
        },
        {
          "output_type": "display_data",
          "data": {
            "image/png": "[encoded data removed]",
            "text/plain": [
              "<Figure size 436.875x360 with 1 Axes>"
            ]
          },
          "metadata": {
            "tags": [],
            "needs_background": "light"
          }
        }
      ]
    },
    {
      "cell_type": "code",
      "metadata": {
        "colab": {
          "base_uri": "https://localhost:8080/",
          "height": 296
        },
        "id": "s2E7v7UPd42K",
        "outputId": "851de656-b4a8-4be1-d9c7-f5b560ceb22a"
      },
      "source": [
        "sns.stripplot(x='Genre',y='ROI',data=df)"
      ],
      "execution_count": null,
      "outputs": [
        {
          "output_type": "execute_result",
          "data": {
            "text/plain": [
              "<matplotlib.axes._subplots.AxesSubplot at 0x7fdceb883850>"
            ]
          },
          "metadata": {
            "tags": []
          },
          "execution_count": 170
        },
        {
          "output_type": "display_data",
          "data": {
            "image/png": "[encoded data removed]",
            "text/plain": [
              "<Figure size 432x288 with 1 Axes>"
            ]
          },
          "metadata": {
            "tags": [],
            "needs_background": "light"
          }
        }
      ]
    },
    {
      "cell_type": "markdown",
      "metadata": {
        "id": "Om7FmGJIJ78-"
      },
      "source": [
        "10. Is there a correlation between box office collection and YouTube likes? Is the correlation positive or\n",
        "negative?"
      ]
    },
    {
      "cell_type": "code",
      "metadata": {
        "colab": {
          "base_uri": "https://localhost:8080/",
          "height": 111
        },
        "id": "mnp3ymzCiuwO",
        "outputId": "34e27c72-466d-4070-a54f-200471b2c965"
      },
      "source": [
        "df[['BoxOfficeCollection','YoutubeLikes']].corr()"
      ],
      "execution_count": null,
      "outputs": [
        {
          "output_type": "execute_result",
          "data": {
            "text/html": [
              "<div>\n",
              "<style scoped>\n",
              "    .dataframe tbody tr th:only-of-type {\n",
              "        vertical-align: middle;\n",
              "    }\n",
              "\n",
              "    .dataframe tbody tr th {\n",
              "        vertical-align: top;\n",
              "    }\n",
              "\n",
              "    .dataframe thead th {\n",
              "        text-align: right;\n",
              "    }\n",
              "</style>\n",
              "<table border=\"1\" class=\"dataframe\">\n",
              "  <thead>\n",
              "    <tr style=\"text-align: right;\">\n",
              "      <th></th>\n",
              "      <th>BoxOfficeCollection</th>\n",
              "      <th>YoutubeLikes</th>\n",
              "    </tr>\n",
              "  </thead>\n",
              "  <tbody>\n",
              "    <tr>\n",
              "      <th>BoxOfficeCollection</th>\n",
              "      <td>1.000000</td>\n",
              "      <td>0.682517</td>\n",
              "    </tr>\n",
              "    <tr>\n",
              "      <th>YoutubeLikes</th>\n",
              "      <td>0.682517</td>\n",
              "      <td>1.000000</td>\n",
              "    </tr>\n",
              "  </tbody>\n",
              "</table>\n",
              "</div>"
            ],
            "text/plain": [
              "                     BoxOfficeCollection  YoutubeLikes\n",
              "BoxOfficeCollection             1.000000      0.682517\n",
              "YoutubeLikes                    0.682517      1.000000"
            ]
          },
          "metadata": {
            "tags": []
          },
          "execution_count": 171
        }
      ]
    },
    {
      "cell_type": "markdown",
      "metadata": {
        "id": "K4KDGIoeKiYW"
      },
      "source": [
        "11. Which genre of movies typically sees more YouTube likes? Draw boxplots for each genre of movies\n",
        "to compare."
      ]
    },
    {
      "cell_type": "code",
      "metadata": {
        "colab": {
          "base_uri": "https://localhost:8080/",
          "height": 296
        },
        "id": "z9uz4GWVJEYi",
        "outputId": "f9e13947-a2bf-42cb-b4ac-86c15e984a97"
      },
      "source": [
        "sns.boxplot(x='Genre',y='YoutubeLikes',data=df)\n",
        "#Action movies "
      ],
      "execution_count": null,
      "outputs": [
        {
          "output_type": "execute_result",
          "data": {
            "text/plain": [
              "<matplotlib.axes._subplots.AxesSubplot at 0x7fdceb72eb50>"
            ]
          },
          "metadata": {
            "tags": []
          },
          "execution_count": 172
        },
        {
          "output_type": "display_data",
          "data": {
            "image/png": "[encoded data removed]",
            "text/plain": [
              "<Figure size 432x288 with 1 Axes>"
            ]
          },
          "metadata": {
            "tags": [],
            "needs_background": "light"
          }
        }
      ]
    },
    {
      "cell_type": "markdown",
      "metadata": {
        "id": "onHqzn4dKb_g"
      },
      "source": [
        "12. Which of the variables among Budget, BoxOfficeCollection, YoutubeView, YoutubeLikes,\n",
        "YoutubeDislikes are highly correlated? Note: Draw pair plot or heatmap."
      ]
    },
    {
      "cell_type": "code",
      "metadata": {
        "colab": {
          "base_uri": "https://localhost:8080/",
          "height": 374
        },
        "id": "Lyb6UIh4LqYv",
        "outputId": "bd4710ec-8607-478d-bfec-41bfe1780fb1"
      },
      "source": [
        "sns.heatmap(df[['Budget', 'BoxOfficeCollection', 'YoutubeViews', 'YoutubeLikes', 'YoutubeDislikes' ]].corr(),annot=True,vmax=1,vmin=-1)\n",
        "#Youtube likes/dislikes are highly correlated with youtube views and this insight is intuitive also.\n",
        "#All parameter are positively correlated and it is counter intuitive that box office collection is equivalently positively correlated to dislikes as muuch to likes.\n"
      ],
      "execution_count": null,
      "outputs": [
        {
          "output_type": "execute_result",
          "data": {
            "text/plain": [
              "<matplotlib.axes._subplots.AxesSubplot at 0x7fdceb617190>"
            ]
          },
          "metadata": {
            "tags": []
          },
          "execution_count": 173
        },
        {
          "output_type": "display_data",
          "data": {
            "image/png": "[encoded data removed]",
            "text/plain": [
              "<Figure size 432x288 with 2 Axes>"
            ]
          },
          "metadata": {
            "tags": [],
            "needs_background": "light"
          }
        }
      ]
    },
    {
      "cell_type": "markdown",
      "metadata": {
        "id": "2_WgZkevir2S"
      },
      "source": [
        "**SAheart Dataset**"
      ]
    },
    {
      "cell_type": "code",
      "metadata": {
        "id": "hnyaHlKJL12C"
      },
      "source": [
        "ds=pd.read_csv('https://web.stanford.edu/~hastie/ElemStatLearn//datasets/SAheart.data',index_col='row.names')"
      ],
      "execution_count": null,
      "outputs": []
    },
    {
      "cell_type": "code",
      "metadata": {
        "colab": {
          "base_uri": "https://localhost:8080/",
          "height": 235
        },
        "id": "mTNWXvPIjZCG",
        "outputId": "03b79f84-f5e8-45a6-dff7-d89d16fc0da0"
      },
      "source": [
        "ds.head()"
      ],
      "execution_count": null,
      "outputs": [
        {
          "output_type": "execute_result",
          "data": {
            "text/html": [
              "<div>\n",
              "<style scoped>\n",
              "    .dataframe tbody tr th:only-of-type {\n",
              "        vertical-align: middle;\n",
              "    }\n",
              "\n",
              "    .dataframe tbody tr th {\n",
              "        vertical-align: top;\n",
              "    }\n",
              "\n",
              "    .dataframe thead th {\n",
              "        text-align: right;\n",
              "    }\n",
              "</style>\n",
              "<table border=\"1\" class=\"dataframe\">\n",
              "  <thead>\n",
              "    <tr style=\"text-align: right;\">\n",
              "      <th></th>\n",
              "      <th>sbp</th>\n",
              "      <th>tobacco</th>\n",
              "      <th>ldl</th>\n",
              "      <th>adiposity</th>\n",
              "      <th>famhist</th>\n",
              "      <th>typea</th>\n",
              "      <th>obesity</th>\n",
              "      <th>alcohol</th>\n",
              "      <th>age</th>\n",
              "      <th>chd</th>\n",
              "    </tr>\n",
              "    <tr>\n",
              "      <th>row.names</th>\n",
              "      <th></th>\n",
              "      <th></th>\n",
              "      <th></th>\n",
              "      <th></th>\n",
              "      <th></th>\n",
              "      <th></th>\n",
              "      <th></th>\n",
              "      <th></th>\n",
              "      <th></th>\n",
              "      <th></th>\n",
              "    </tr>\n",
              "  </thead>\n",
              "  <tbody>\n",
              "    <tr>\n",
              "      <th>1</th>\n",
              "      <td>160</td>\n",
              "      <td>12.00</td>\n",
              "      <td>5.73</td>\n",
              "      <td>23.11</td>\n",
              "      <td>Present</td>\n",
              "      <td>49</td>\n",
              "      <td>25.30</td>\n",
              "      <td>97.20</td>\n",
              "      <td>52</td>\n",
              "      <td>1</td>\n",
              "    </tr>\n",
              "    <tr>\n",
              "      <th>2</th>\n",
              "      <td>144</td>\n",
              "      <td>0.01</td>\n",
              "      <td>4.41</td>\n",
              "      <td>28.61</td>\n",
              "      <td>Absent</td>\n",
              "      <td>55</td>\n",
              "      <td>28.87</td>\n",
              "      <td>2.06</td>\n",
              "      <td>63</td>\n",
              "      <td>1</td>\n",
              "    </tr>\n",
              "    <tr>\n",
              "      <th>3</th>\n",
              "      <td>118</td>\n",
              "      <td>0.08</td>\n",
              "      <td>3.48</td>\n",
              "      <td>32.28</td>\n",
              "      <td>Present</td>\n",
              "      <td>52</td>\n",
              "      <td>29.14</td>\n",
              "      <td>3.81</td>\n",
              "      <td>46</td>\n",
              "      <td>0</td>\n",
              "    </tr>\n",
              "    <tr>\n",
              "      <th>4</th>\n",
              "      <td>170</td>\n",
              "      <td>7.50</td>\n",
              "      <td>6.41</td>\n",
              "      <td>38.03</td>\n",
              "      <td>Present</td>\n",
              "      <td>51</td>\n",
              "      <td>31.99</td>\n",
              "      <td>24.26</td>\n",
              "      <td>58</td>\n",
              "      <td>1</td>\n",
              "    </tr>\n",
              "    <tr>\n",
              "      <th>5</th>\n",
              "      <td>134</td>\n",
              "      <td>13.60</td>\n",
              "      <td>3.50</td>\n",
              "      <td>27.78</td>\n",
              "      <td>Present</td>\n",
              "      <td>60</td>\n",
              "      <td>25.99</td>\n",
              "      <td>57.34</td>\n",
              "      <td>49</td>\n",
              "      <td>1</td>\n",
              "    </tr>\n",
              "  </tbody>\n",
              "</table>\n",
              "</div>"
            ],
            "text/plain": [
              "           sbp  tobacco   ldl  adiposity  ... obesity  alcohol  age  chd\n",
              "row.names                                 ...                           \n",
              "1          160    12.00  5.73      23.11  ...   25.30    97.20   52    1\n",
              "2          144     0.01  4.41      28.61  ...   28.87     2.06   63    1\n",
              "3          118     0.08  3.48      32.28  ...   29.14     3.81   46    0\n",
              "4          170     7.50  6.41      38.03  ...   31.99    24.26   58    1\n",
              "5          134    13.60  3.50      27.78  ...   25.99    57.34   49    1\n",
              "\n",
              "[5 rows x 10 columns]"
            ]
          },
          "metadata": {
            "tags": []
          },
          "execution_count": 175
        }
      ]
    },
    {
      "cell_type": "markdown",
      "metadata": {
        "id": "rAy2ctyNkED_"
      },
      "source": [
        "13. How many records are present in the dataset? Print the metadata information of the dataset."
      ]
    },
    {
      "cell_type": "code",
      "metadata": {
        "colab": {
          "base_uri": "https://localhost:8080/"
        },
        "id": "GdBaeBKojaXv",
        "outputId": "1ed75277-480c-4153-91c4-981eb87f48f8"
      },
      "source": [
        "ds.info()"
      ],
      "execution_count": null,
      "outputs": [
        {
          "output_type": "stream",
          "text": [
            "<class 'pandas.core.frame.DataFrame'>\n",
            "Int64Index: 462 entries, 1 to 463\n",
            "Data columns (total 10 columns):\n",
            " #   Column     Non-Null Count  Dtype  \n",
            "---  ------     --------------  -----  \n",
            " 0   sbp        462 non-null    int64  \n",
            " 1   tobacco    462 non-null    float64\n",
            " 2   ldl        462 non-null    float64\n",
            " 3   adiposity  462 non-null    float64\n",
            " 4   famhist    462 non-null    object \n",
            " 5   typea      462 non-null    int64  \n",
            " 6   obesity    462 non-null    float64\n",
            " 7   alcohol    462 non-null    float64\n",
            " 8   age        462 non-null    int64  \n",
            " 9   chd        462 non-null    int64  \n",
            "dtypes: float64(5), int64(4), object(1)\n",
            "memory usage: 39.7+ KB\n"
          ],
          "name": "stdout"
        }
      ]
    },
    {
      "cell_type": "markdown",
      "metadata": {
        "id": "rpkts5c5kWnS"
      },
      "source": [
        "14. Draw a bar plot to show the number of persons having CHD or not in comparison to they having family history of the disease or not."
      ]
    },
    {
      "cell_type": "code",
      "metadata": {
        "colab": {
          "base_uri": "https://localhost:8080/",
          "height": 614
        },
        "id": "Y-Y7oZ7ekHWQ",
        "outputId": "e391b5c1-b31a-49e8-9bd6-7750c189cb56"
      },
      "source": [
        "\n",
        "pd.crosstab(index=ds['famhist'],columns=ds['chd']).plot.bar(),\n",
        "pd.crosstab(index=ds['famhist'],columns=ds['chd'],normalize=True).plot.bar(stacked =True)\n"
      ],
      "execution_count": null,
      "outputs": [
        {
          "output_type": "execute_result",
          "data": {
            "text/plain": [
              "<matplotlib.axes._subplots.AxesSubplot at 0x7fdceb4eff90>"
            ]
          },
          "metadata": {
            "tags": []
          },
          "execution_count": 177
        },
        {
          "output_type": "display_data",
          "data": {
            "image/png": "[encoded data removed]",
            "text/plain": [
              "<Figure size 432x288 with 1 Axes>"
            ]
          },
          "metadata": {
            "tags": [],
            "needs_background": "light"
          }
        },
        {
          "output_type": "display_data",
          "data": {
            "image/png": "[encoded data removed]",
            "text/plain": [
              "<Figure size 432x288 with 1 Axes>"
            ]
          },
          "metadata": {
            "tags": [],
            "needs_background": "light"
          }
        }
      ]
    },
    {
      "cell_type": "markdown",
      "metadata": {
        "id": "YyyhZxvxOcDn"
      },
      "source": [
        "15. Does age have any correlation with sbp? Choose appropriate plot to show the relationship."
      ]
    },
    {
      "cell_type": "code",
      "metadata": {
        "colab": {
          "base_uri": "https://localhost:8080/",
          "height": 111
        },
        "id": "-l6I7hlok0Fi",
        "outputId": "1c4bb02f-c8ba-4a32-9d01-a9f55103e0c0"
      },
      "source": [
        "ds[['age','sbp']].corr()"
      ],
      "execution_count": null,
      "outputs": [
        {
          "output_type": "execute_result",
          "data": {
            "text/html": [
              "<div>\n",
              "<style scoped>\n",
              "    .dataframe tbody tr th:only-of-type {\n",
              "        vertical-align: middle;\n",
              "    }\n",
              "\n",
              "    .dataframe tbody tr th {\n",
              "        vertical-align: top;\n",
              "    }\n",
              "\n",
              "    .dataframe thead th {\n",
              "        text-align: right;\n",
              "    }\n",
              "</style>\n",
              "<table border=\"1\" class=\"dataframe\">\n",
              "  <thead>\n",
              "    <tr style=\"text-align: right;\">\n",
              "      <th></th>\n",
              "      <th>age</th>\n",
              "      <th>sbp</th>\n",
              "    </tr>\n",
              "  </thead>\n",
              "  <tbody>\n",
              "    <tr>\n",
              "      <th>age</th>\n",
              "      <td>1.000000</td>\n",
              "      <td>0.388771</td>\n",
              "    </tr>\n",
              "    <tr>\n",
              "      <th>sbp</th>\n",
              "      <td>0.388771</td>\n",
              "      <td>1.000000</td>\n",
              "    </tr>\n",
              "  </tbody>\n",
              "</table>\n",
              "</div>"
            ],
            "text/plain": [
              "          age       sbp\n",
              "age  1.000000  0.388771\n",
              "sbp  0.388771  1.000000"
            ]
          },
          "metadata": {
            "tags": []
          },
          "execution_count": 178
        }
      ]
    },
    {
      "cell_type": "code",
      "metadata": {
        "colab": {
          "base_uri": "https://localhost:8080/",
          "height": 286
        },
        "id": "JUsChUms6PUy",
        "outputId": "1bcc8871-4543-496d-8470-f3e97ef8147e"
      },
      "source": [
        "sns.heatmap(ds[['age','sbp']].corr(),annot=True)\n",
        "#Since the value of coeeficient is low, we can say that age can explain 0.39 or 39% variability of SBP"
      ],
      "execution_count": null,
      "outputs": [
        {
          "output_type": "execute_result",
          "data": {
            "text/plain": [
              "<matplotlib.axes._subplots.AxesSubplot at 0x7fdceb42ec10>"
            ]
          },
          "metadata": {
            "tags": []
          },
          "execution_count": 179
        },
        {
          "output_type": "display_data",
          "data": {
            "image/png": "[encoded data removed]",
            "text/plain": [
              "<Figure size 432x288 with 2 Axes>"
            ]
          },
          "metadata": {
            "tags": [],
            "needs_background": "light"
          }
        }
      ]
    },
    {
      "cell_type": "markdown",
      "metadata": {
        "id": "ldwsbXS-XW2X"
      },
      "source": [
        "16. Compare the distribution of tobacco consumption for persons having CHD and not having CHD. Can you interpret the effect of tobacco consumption on having coronary heart disease?"
      ]
    },
    {
      "cell_type": "code",
      "metadata": {
        "colab": {
          "base_uri": "https://localhost:8080/",
          "height": 386
        },
        "id": "aIyCgk4YRLYz",
        "outputId": "d1ac213c-af29-4924-d6f1-b5c1710fb593"
      },
      "source": [
        "sns.displot(data=ds['chd'],x=ds['tobacco'],hue=ds['chd'],kind='kde',fill=True,)"
      ],
      "execution_count": null,
      "outputs": [
        {
          "output_type": "execute_result",
          "data": {
            "text/plain": [
              "<seaborn.axisgrid.FacetGrid at 0x7fdceb503390>"
            ]
          },
          "metadata": {
            "tags": []
          },
          "execution_count": 180
        },
        {
          "output_type": "display_data",
          "data": {
            "image/png": "[encoded data removed]",
            "text/plain": [
              "<Figure size 402.375x360 with 1 Axes>"
            ]
          },
          "metadata": {
            "tags": [],
            "needs_background": "light"
          }
        }
      ]
    },
    {
      "cell_type": "code",
      "metadata": {
        "colab": {
          "base_uri": "https://localhost:8080/",
          "height": 299
        },
        "id": "XJ9PSNU6ZSCf",
        "outputId": "c6a984a1-7e18-4031-8517-fd671301792c"
      },
      "source": [
        "sns.distplot(ds[ds['chd']==1]['tobacco'],color='r',label='CHD Present', )\n",
        "sns.distplot(ds[ds['chd']==0]['tobacco'],color='g',label='CHD Absent',hist=False)\n",
        "plt.legend()\n",
        "#people having CHD consume more amount of tobacco"
      ],
      "execution_count": null,
      "outputs": [
        {
          "output_type": "execute_result",
          "data": {
            "text/plain": [
              "<matplotlib.legend.Legend at 0x7fdceb7acf10>"
            ]
          },
          "metadata": {
            "tags": []
          },
          "execution_count": 181
        },
        {
          "output_type": "display_data",
          "data": {
            "image/png": "[encoded data removed]",
            "text/plain": [
              "<Figure size 432x288 with 1 Axes>"
            ]
          },
          "metadata": {
            "tags": [],
            "needs_background": "light"
          }
        }
      ]
    },
    {
      "cell_type": "markdown",
      "metadata": {
        "id": "c6R7kRJxg-6a"
      },
      "source": [
        "17. How are the parameters sbp, obesity, age and ldl correlated? Choose the right plot to show the relationships."
      ]
    },
    {
      "cell_type": "code",
      "metadata": {
        "colab": {
          "base_uri": "https://localhost:8080/",
          "height": 286
        },
        "id": "pklmQ9KBddsE",
        "outputId": "9dc44560-9738-46d3-e1ad-ae550ab16704"
      },
      "source": [
        "sns.heatmap(ds[['sbp', 'obesity', 'age','ldl']].corr(),cmap='coolwarm',annot=True)\n",
        "#We can "
      ],
      "execution_count": null,
      "outputs": [
        {
          "output_type": "execute_result",
          "data": {
            "text/plain": [
              "<matplotlib.axes._subplots.AxesSubplot at 0x7fdceb2b71d0>"
            ]
          },
          "metadata": {
            "tags": []
          },
          "execution_count": 182
        },
        {
          "output_type": "display_data",
          "data": {
            "image/png": "[encoded data removed]",
            "text/plain": [
              "<Figure size 432x288 with 2 Axes>"
            ]
          },
          "metadata": {
            "tags": [],
            "needs_background": "light"
          }
        }
      ]
    },
    {
      "cell_type": "markdown",
      "metadata": {
        "id": "lwzxsj32i3xF"
      },
      "source": [
        "18. Derive a new column called agegroup from age column where persons falling in different age ranges are categorized as below.\n",
        "(0–15): young,\n",
        "(15–35): adults,\n",
        "(35–55): mid,\n",
        "(55–): old"
      ]
    },
    {
      "cell_type": "code",
      "metadata": {
        "colab": {
          "base_uri": "https://localhost:8080/"
        },
        "id": "1sqM5yKUf6A0",
        "outputId": "afa71ca4-f4b0-466e-9c82-84ac7a04fed9"
      },
      "source": [
        "ds['age-group']=pd.cut(ds['age'],[0,15,35,55,max(ds['age'])],labels=['young','adult','mid','old'])\n",
        "ds['age-group'].value_counts()"
      ],
      "execution_count": null,
      "outputs": [
        {
          "output_type": "execute_result",
          "data": {
            "text/plain": [
              "mid      204\n",
              "adult    141\n",
              "old      114\n",
              "young      3\n",
              "Name: age-group, dtype: int64"
            ]
          },
          "metadata": {
            "tags": []
          },
          "execution_count": 183
        }
      ]
    },
    {
      "cell_type": "markdown",
      "metadata": {
        "id": "JJFNGRWZqPHZ"
      },
      "source": [
        "19. Find out the number of CHD cases in different age categories. Do a barplot and sort them in the order of age groups."
      ]
    },
    {
      "cell_type": "code",
      "metadata": {
        "colab": {
          "base_uri": "https://localhost:8080/",
          "height": 388
        },
        "id": "ngXXPhlTlR41",
        "outputId": "22042383-32be-452b-b5aa-60e9e2a3d32c"
      },
      "source": [
        "ds[ds['chd']==1]['age-group'].value_counts().sort_values(ascending=False),ds[ds['chd']==1]['age-group'].value_counts().sort_values(ascending=False).plot.bar()"
      ],
      "execution_count": null,
      "outputs": [
        {
          "output_type": "execute_result",
          "data": {
            "text/plain": [
              "(mid      81\n",
              " old      61\n",
              " adult    18\n",
              " young     0\n",
              " Name: age-group, dtype: int64,\n",
              " <matplotlib.axes._subplots.AxesSubplot at 0x7fdceb1a8150>)"
            ]
          },
          "metadata": {
            "tags": []
          },
          "execution_count": 184
        },
        {
          "output_type": "display_data",
          "data": {
            "image/png": "[encoded data removed]",
            "text/plain": [
              "<Figure size 432x288 with 1 Axes>"
            ]
          },
          "metadata": {
            "tags": [],
            "needs_background": "light"
          }
        }
      ]
    },
    {
      "cell_type": "code",
      "metadata": {
        "colab": {
          "base_uri": "https://localhost:8080/",
          "height": 296
        },
        "id": "rjbkbBaPorop",
        "outputId": "26bbcacf-04ce-4a9f-eb00-007e8fbcd066"
      },
      "source": [
        "sns.countplot(x='age-group',data=ds[ds['chd']==1],)"
      ],
      "execution_count": null,
      "outputs": [
        {
          "output_type": "execute_result",
          "data": {
            "text/plain": [
              "<matplotlib.axes._subplots.AxesSubplot at 0x7fdceb12b790>"
            ]
          },
          "metadata": {
            "tags": []
          },
          "execution_count": 185
        },
        {
          "output_type": "display_data",
          "data": {
            "image/png": "[encoded data removed]",
            "text/plain": [
              "<Figure size 432x288 with 1 Axes>"
            ]
          },
          "metadata": {
            "tags": [],
            "needs_background": "light"
          }
        }
      ]
    },
    {
      "cell_type": "markdown",
      "metadata": {
        "id": "ZI7l28wXvaAX"
      },
      "source": [
        "20. Draw a box plot to compare distributions of ldl for different age groups."
      ]
    },
    {
      "cell_type": "code",
      "metadata": {
        "colab": {
          "base_uri": "https://localhost:8080/",
          "height": 272
        },
        "id": "3KL561OMvdaF",
        "outputId": "51cf8709-3bdb-4fad-963f-61ffab29f4a8"
      },
      "source": [
        "sns.boxplot(y='ldl',data=ds)"
      ],
      "execution_count": null,
      "outputs": [
        {
          "output_type": "execute_result",
          "data": {
            "text/plain": [
              "<matplotlib.axes._subplots.AxesSubplot at 0x7fdceb0e0f50>"
            ]
          },
          "metadata": {
            "tags": []
          },
          "execution_count": 186
        },
        {
          "output_type": "display_data",
          "data": {
            "image/png": "[encoded data removed]",
            "text/plain": [
              "<Figure size 432x288 with 1 Axes>"
            ]
          },
          "metadata": {
            "tags": [],
            "needs_background": "light"
          }
        }
      ]
    },
    {
      "cell_type": "code",
      "metadata": {
        "colab": {
          "base_uri": "https://localhost:8080/",
          "height": 300
        },
        "id": "iMC2d1A8vmfR",
        "outputId": "5951cc64-8060-4151-fce0-731f05c0ec10"
      },
      "source": [
        "sns.stripplot(data=ds,x='age-group',y='ldl')"
      ],
      "execution_count": null,
      "outputs": [
        {
          "output_type": "execute_result",
          "data": {
            "text/plain": [
              "<matplotlib.axes._subplots.AxesSubplot at 0x7fdceb071e50>"
            ]
          },
          "metadata": {
            "tags": []
          },
          "execution_count": 187
        },
        {
          "output_type": "display_data",
          "data": {
            "image/png": "[encoded data removed]",
            "text/plain": [
              "<Figure size 432x288 with 1 Axes>"
            ]
          },
          "metadata": {
            "tags": [],
            "needs_background": "light"
          }
        }
      ]
    },
    {
      "cell_type": "code",
      "metadata": {
        "id": "nv2fXNENwn4W"
      },
      "source": [
        ""
      ],
      "execution_count": null,
      "outputs": []
    }
  ]
}