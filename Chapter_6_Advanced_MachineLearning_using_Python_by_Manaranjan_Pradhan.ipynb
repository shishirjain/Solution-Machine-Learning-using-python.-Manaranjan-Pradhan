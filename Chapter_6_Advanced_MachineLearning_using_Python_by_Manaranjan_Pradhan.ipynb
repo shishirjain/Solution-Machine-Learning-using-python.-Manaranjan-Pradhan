{
  "nbformat": 4,
  "nbformat_minor": 0,
  "metadata": {
    "colab": {
      "name": "Chapter_6_Advanced_MachineLearning_using_Python_by_Manaranjan_Pradhan.ipynb",
      "provenance": [],
      "collapsed_sections": [],
      "authorship_tag": "ABX9TyPnr5dwaunkn559Eh0rDS9y",
      "include_colab_link": true
    },
    "kernelspec": {
      "name": "python3",
      "display_name": "Python 3"
    },
    "language_info": {
      "name": "python"
    }
  },
  "cells": [
    {
      "cell_type": "markdown",
      "metadata": {
        "id": "view-in-github",
        "colab_type": "text"
      },
      "source": [
        "<a href=\"https://colab.research.google.com/github/shishirjain/Solution-Machine-Learning-using-python.-Manaranjan-Pradhan/blob/main/Chapter_6_Advanced_MachineLearning_using_Python_by_Manaranjan_Pradhan.ipynb\" target=\"_parent\"><img src=\"https://colab.research.google.com/assets/colab-badge.svg\" alt=\"Open In Colab\"/></a>"
      ]
    },
    {
      "cell_type": "code",
      "metadata": {
        "id": "r-KKXWYAmvy9"
      },
      "source": [
        "import pandas as pd\n",
        "import numpy as np\n",
        "import matplotlib.pyplot as plt\n",
        "%matplotlib inline\n",
        "import seaborn as sns\n",
        "import warnings \n",
        "warnings.filterwarnings('ignore')"
      ],
      "execution_count": null,
      "outputs": []
    },
    {
      "cell_type": "code",
      "metadata": {
        "colab": {
          "base_uri": "https://localhost:8080/",
          "height": 204
        },
        "id": "-tTgqPUJHAdR",
        "outputId": "34c0e515-8658-493c-f2c8-f9ec9304289d"
      },
      "source": [
        "df=pd.read_csv('http://www-stat.stanford.edu/~tibs/ElemStatLearn/datasets/SAheart.data')\n",
        "df.head()"
      ],
      "execution_count": null,
      "outputs": [
        {
          "output_type": "execute_result",
          "data": {
            "text/html": [
              "<div>\n",
              "<style scoped>\n",
              "    .dataframe tbody tr th:only-of-type {\n",
              "        vertical-align: middle;\n",
              "    }\n",
              "\n",
              "    .dataframe tbody tr th {\n",
              "        vertical-align: top;\n",
              "    }\n",
              "\n",
              "    .dataframe thead th {\n",
              "        text-align: right;\n",
              "    }\n",
              "</style>\n",
              "<table border=\"1\" class=\"dataframe\">\n",
              "  <thead>\n",
              "    <tr style=\"text-align: right;\">\n",
              "      <th></th>\n",
              "      <th>row.names</th>\n",
              "      <th>sbp</th>\n",
              "      <th>tobacco</th>\n",
              "      <th>ldl</th>\n",
              "      <th>adiposity</th>\n",
              "      <th>famhist</th>\n",
              "      <th>typea</th>\n",
              "      <th>obesity</th>\n",
              "      <th>alcohol</th>\n",
              "      <th>age</th>\n",
              "      <th>chd</th>\n",
              "    </tr>\n",
              "  </thead>\n",
              "  <tbody>\n",
              "    <tr>\n",
              "      <th>0</th>\n",
              "      <td>1</td>\n",
              "      <td>160</td>\n",
              "      <td>12.00</td>\n",
              "      <td>5.73</td>\n",
              "      <td>23.11</td>\n",
              "      <td>Present</td>\n",
              "      <td>49</td>\n",
              "      <td>25.30</td>\n",
              "      <td>97.20</td>\n",
              "      <td>52</td>\n",
              "      <td>1</td>\n",
              "    </tr>\n",
              "    <tr>\n",
              "      <th>1</th>\n",
              "      <td>2</td>\n",
              "      <td>144</td>\n",
              "      <td>0.01</td>\n",
              "      <td>4.41</td>\n",
              "      <td>28.61</td>\n",
              "      <td>Absent</td>\n",
              "      <td>55</td>\n",
              "      <td>28.87</td>\n",
              "      <td>2.06</td>\n",
              "      <td>63</td>\n",
              "      <td>1</td>\n",
              "    </tr>\n",
              "    <tr>\n",
              "      <th>2</th>\n",
              "      <td>3</td>\n",
              "      <td>118</td>\n",
              "      <td>0.08</td>\n",
              "      <td>3.48</td>\n",
              "      <td>32.28</td>\n",
              "      <td>Present</td>\n",
              "      <td>52</td>\n",
              "      <td>29.14</td>\n",
              "      <td>3.81</td>\n",
              "      <td>46</td>\n",
              "      <td>0</td>\n",
              "    </tr>\n",
              "    <tr>\n",
              "      <th>3</th>\n",
              "      <td>4</td>\n",
              "      <td>170</td>\n",
              "      <td>7.50</td>\n",
              "      <td>6.41</td>\n",
              "      <td>38.03</td>\n",
              "      <td>Present</td>\n",
              "      <td>51</td>\n",
              "      <td>31.99</td>\n",
              "      <td>24.26</td>\n",
              "      <td>58</td>\n",
              "      <td>1</td>\n",
              "    </tr>\n",
              "    <tr>\n",
              "      <th>4</th>\n",
              "      <td>5</td>\n",
              "      <td>134</td>\n",
              "      <td>13.60</td>\n",
              "      <td>3.50</td>\n",
              "      <td>27.78</td>\n",
              "      <td>Present</td>\n",
              "      <td>60</td>\n",
              "      <td>25.99</td>\n",
              "      <td>57.34</td>\n",
              "      <td>49</td>\n",
              "      <td>1</td>\n",
              "    </tr>\n",
              "  </tbody>\n",
              "</table>\n",
              "</div>"
            ],
            "text/plain": [
              "   row.names  sbp  tobacco   ldl  adiposity  ... typea  obesity  alcohol  age  chd\n",
              "0          1  160    12.00  5.73      23.11  ...    49    25.30    97.20   52    1\n",
              "1          2  144     0.01  4.41      28.61  ...    55    28.87     2.06   63    1\n",
              "2          3  118     0.08  3.48      32.28  ...    52    29.14     3.81   46    0\n",
              "3          4  170     7.50  6.41      38.03  ...    51    31.99    24.26   58    1\n",
              "4          5  134    13.60  3.50      27.78  ...    60    25.99    57.34   49    1\n",
              "\n",
              "[5 rows x 11 columns]"
            ]
          },
          "metadata": {
            "tags": []
          },
          "execution_count": 2
        }
      ]
    },
    {
      "cell_type": "markdown",
      "metadata": {
        "id": "Sou1ElVtJlv0"
      },
      "source": [
        "1. Find out the number cases available in the dataset for chd and no chd. Is it an imbalanced data- set for classification modelling? Plot the findings using a bar plot, where x is chd or no chd and y gives the count of samples in each group.\n"
      ]
    },
    {
      "cell_type": "code",
      "metadata": {
        "colab": {
          "base_uri": "https://localhost:8080/"
        },
        "id": "O-eD6_d6JlYE",
        "outputId": "0678678c-febe-4f36-a232-d986fe7c372f"
      },
      "source": [
        "df.chd.value_counts()"
      ],
      "execution_count": null,
      "outputs": [
        {
          "output_type": "execute_result",
          "data": {
            "text/plain": [
              "0    302\n",
              "1    160\n",
              "Name: chd, dtype: int64"
            ]
          },
          "metadata": {
            "tags": []
          },
          "execution_count": 3
        }
      ]
    },
    {
      "cell_type": "code",
      "metadata": {
        "colab": {
          "base_uri": "https://localhost:8080/",
          "height": 296
        },
        "id": "YnDVqYxyJwnJ",
        "outputId": "ca2e18d4-e4e5-433c-b058-0bbef70684ea"
      },
      "source": [
        "sns.countplot(x='chd',data=df)"
      ],
      "execution_count": null,
      "outputs": [
        {
          "output_type": "execute_result",
          "data": {
            "text/plain": [
              "<matplotlib.axes._subplots.AxesSubplot at 0x7fdfa8afa550>"
            ]
          },
          "metadata": {
            "tags": []
          },
          "execution_count": 4
        },
        {
          "output_type": "display_data",
          "data": {
            "image/png": "[encoded data removed]",
            "text/plain": [
              "<Figure size 432x288 with 1 Axes>"
            ]
          },
          "metadata": {
            "tags": [],
            "needs_background": "light"
          }
        }
      ]
    },
    {
      "cell_type": "markdown",
      "metadata": {
        "id": "jzEoROkZPqcd"
      },
      "source": [
        "2. To create a balanced dataset, do upsampling of chd cases to be same as number of no chd cases. For upsampling, use resampling with replacement technique."
      ]
    },
    {
      "cell_type": "code",
      "metadata": {
        "id": "RFF5OZHHMd8j"
      },
      "source": [
        "from sklearn.utils import resample\n",
        "df_chd_yes=df[df['chd']==1]\n",
        "df_minority_sample=resample(df_chd_yes,replace=True,n_samples=100)"
      ],
      "execution_count": null,
      "outputs": []
    },
    {
      "cell_type": "code",
      "metadata": {
        "colab": {
          "base_uri": "https://localhost:8080/",
          "height": 204
        },
        "id": "fPYRRR2jS-ub",
        "outputId": "587d8cc0-f36e-4ab8-a04a-6efbdba4fc43"
      },
      "source": [
        "df_minority_sample.head()"
      ],
      "execution_count": null,
      "outputs": [
        {
          "output_type": "execute_result",
          "data": {
            "text/html": [
              "<div>\n",
              "<style scoped>\n",
              "    .dataframe tbody tr th:only-of-type {\n",
              "        vertical-align: middle;\n",
              "    }\n",
              "\n",
              "    .dataframe tbody tr th {\n",
              "        vertical-align: top;\n",
              "    }\n",
              "\n",
              "    .dataframe thead th {\n",
              "        text-align: right;\n",
              "    }\n",
              "</style>\n",
              "<table border=\"1\" class=\"dataframe\">\n",
              "  <thead>\n",
              "    <tr style=\"text-align: right;\">\n",
              "      <th></th>\n",
              "      <th>row.names</th>\n",
              "      <th>sbp</th>\n",
              "      <th>tobacco</th>\n",
              "      <th>ldl</th>\n",
              "      <th>adiposity</th>\n",
              "      <th>famhist</th>\n",
              "      <th>typea</th>\n",
              "      <th>obesity</th>\n",
              "      <th>alcohol</th>\n",
              "      <th>age</th>\n",
              "      <th>chd</th>\n",
              "    </tr>\n",
              "  </thead>\n",
              "  <tbody>\n",
              "    <tr>\n",
              "      <th>91</th>\n",
              "      <td>92</td>\n",
              "      <td>120</td>\n",
              "      <td>3.70</td>\n",
              "      <td>4.02</td>\n",
              "      <td>39.66</td>\n",
              "      <td>Absent</td>\n",
              "      <td>61</td>\n",
              "      <td>30.57</td>\n",
              "      <td>0.00</td>\n",
              "      <td>64</td>\n",
              "      <td>1</td>\n",
              "    </tr>\n",
              "    <tr>\n",
              "      <th>446</th>\n",
              "      <td>448</td>\n",
              "      <td>142</td>\n",
              "      <td>0.00</td>\n",
              "      <td>4.32</td>\n",
              "      <td>25.22</td>\n",
              "      <td>Absent</td>\n",
              "      <td>47</td>\n",
              "      <td>28.92</td>\n",
              "      <td>6.53</td>\n",
              "      <td>34</td>\n",
              "      <td>1</td>\n",
              "    </tr>\n",
              "    <tr>\n",
              "      <th>80</th>\n",
              "      <td>81</td>\n",
              "      <td>114</td>\n",
              "      <td>3.00</td>\n",
              "      <td>7.04</td>\n",
              "      <td>22.64</td>\n",
              "      <td>Present</td>\n",
              "      <td>55</td>\n",
              "      <td>22.59</td>\n",
              "      <td>0.00</td>\n",
              "      <td>45</td>\n",
              "      <td>1</td>\n",
              "    </tr>\n",
              "    <tr>\n",
              "      <th>280</th>\n",
              "      <td>282</td>\n",
              "      <td>106</td>\n",
              "      <td>1.08</td>\n",
              "      <td>4.37</td>\n",
              "      <td>26.08</td>\n",
              "      <td>Absent</td>\n",
              "      <td>67</td>\n",
              "      <td>24.07</td>\n",
              "      <td>17.74</td>\n",
              "      <td>28</td>\n",
              "      <td>1</td>\n",
              "    </tr>\n",
              "    <tr>\n",
              "      <th>25</th>\n",
              "      <td>26</td>\n",
              "      <td>124</td>\n",
              "      <td>4.00</td>\n",
              "      <td>12.42</td>\n",
              "      <td>31.29</td>\n",
              "      <td>Present</td>\n",
              "      <td>54</td>\n",
              "      <td>23.23</td>\n",
              "      <td>2.06</td>\n",
              "      <td>42</td>\n",
              "      <td>1</td>\n",
              "    </tr>\n",
              "  </tbody>\n",
              "</table>\n",
              "</div>"
            ],
            "text/plain": [
              "     row.names  sbp  tobacco    ldl  ...  obesity alcohol  age  chd\n",
              "91          92  120     3.70   4.02  ...    30.57    0.00   64    1\n",
              "446        448  142     0.00   4.32  ...    28.92    6.53   34    1\n",
              "80          81  114     3.00   7.04  ...    22.59    0.00   45    1\n",
              "280        282  106     1.08   4.37  ...    24.07   17.74   28    1\n",
              "25          26  124     4.00  12.42  ...    23.23    2.06   42    1\n",
              "\n",
              "[5 rows x 11 columns]"
            ]
          },
          "metadata": {
            "tags": []
          },
          "execution_count": 6
        }
      ]
    },
    {
      "cell_type": "code",
      "metadata": {
        "id": "BZLbZloVTDMt"
      },
      "source": [
        "new_df=pd.concat([df,df_minority_sample])"
      ],
      "execution_count": null,
      "outputs": []
    },
    {
      "cell_type": "code",
      "metadata": {
        "id": "6MRI5nejTjtQ"
      },
      "source": [
        "from sklearn.utils import shuffle"
      ],
      "execution_count": null,
      "outputs": []
    },
    {
      "cell_type": "code",
      "metadata": {
        "id": "p1Sqz9RUTv42",
        "colab": {
          "base_uri": "https://localhost:8080/",
          "height": 204
        },
        "outputId": "dad7411d-d180-4411-ddc0-829204733a4b"
      },
      "source": [
        "new_df=shuffle(new_df)\n",
        "new_df.head()"
      ],
      "execution_count": null,
      "outputs": [
        {
          "output_type": "execute_result",
          "data": {
            "text/html": [
              "<div>\n",
              "<style scoped>\n",
              "    .dataframe tbody tr th:only-of-type {\n",
              "        vertical-align: middle;\n",
              "    }\n",
              "\n",
              "    .dataframe tbody tr th {\n",
              "        vertical-align: top;\n",
              "    }\n",
              "\n",
              "    .dataframe thead th {\n",
              "        text-align: right;\n",
              "    }\n",
              "</style>\n",
              "<table border=\"1\" class=\"dataframe\">\n",
              "  <thead>\n",
              "    <tr style=\"text-align: right;\">\n",
              "      <th></th>\n",
              "      <th>row.names</th>\n",
              "      <th>sbp</th>\n",
              "      <th>tobacco</th>\n",
              "      <th>ldl</th>\n",
              "      <th>adiposity</th>\n",
              "      <th>famhist</th>\n",
              "      <th>typea</th>\n",
              "      <th>obesity</th>\n",
              "      <th>alcohol</th>\n",
              "      <th>age</th>\n",
              "      <th>chd</th>\n",
              "    </tr>\n",
              "  </thead>\n",
              "  <tbody>\n",
              "    <tr>\n",
              "      <th>127</th>\n",
              "      <td>128</td>\n",
              "      <td>136</td>\n",
              "      <td>3.96</td>\n",
              "      <td>2.76</td>\n",
              "      <td>30.28</td>\n",
              "      <td>Present</td>\n",
              "      <td>50</td>\n",
              "      <td>34.42</td>\n",
              "      <td>18.51</td>\n",
              "      <td>38</td>\n",
              "      <td>0</td>\n",
              "    </tr>\n",
              "    <tr>\n",
              "      <th>409</th>\n",
              "      <td>411</td>\n",
              "      <td>120</td>\n",
              "      <td>0.00</td>\n",
              "      <td>3.10</td>\n",
              "      <td>26.97</td>\n",
              "      <td>Absent</td>\n",
              "      <td>41</td>\n",
              "      <td>24.80</td>\n",
              "      <td>0.00</td>\n",
              "      <td>16</td>\n",
              "      <td>0</td>\n",
              "    </tr>\n",
              "    <tr>\n",
              "      <th>357</th>\n",
              "      <td>359</td>\n",
              "      <td>136</td>\n",
              "      <td>6.60</td>\n",
              "      <td>6.08</td>\n",
              "      <td>32.74</td>\n",
              "      <td>Absent</td>\n",
              "      <td>64</td>\n",
              "      <td>33.28</td>\n",
              "      <td>2.72</td>\n",
              "      <td>49</td>\n",
              "      <td>0</td>\n",
              "    </tr>\n",
              "    <tr>\n",
              "      <th>85</th>\n",
              "      <td>86</td>\n",
              "      <td>130</td>\n",
              "      <td>0.56</td>\n",
              "      <td>3.30</td>\n",
              "      <td>30.86</td>\n",
              "      <td>Absent</td>\n",
              "      <td>49</td>\n",
              "      <td>27.52</td>\n",
              "      <td>33.33</td>\n",
              "      <td>45</td>\n",
              "      <td>0</td>\n",
              "    </tr>\n",
              "    <tr>\n",
              "      <th>253</th>\n",
              "      <td>254</td>\n",
              "      <td>146</td>\n",
              "      <td>7.50</td>\n",
              "      <td>7.21</td>\n",
              "      <td>25.93</td>\n",
              "      <td>Present</td>\n",
              "      <td>55</td>\n",
              "      <td>22.51</td>\n",
              "      <td>0.51</td>\n",
              "      <td>42</td>\n",
              "      <td>0</td>\n",
              "    </tr>\n",
              "  </tbody>\n",
              "</table>\n",
              "</div>"
            ],
            "text/plain": [
              "     row.names  sbp  tobacco   ldl  ...  obesity alcohol  age  chd\n",
              "127        128  136     3.96  2.76  ...    34.42   18.51   38    0\n",
              "409        411  120     0.00  3.10  ...    24.80    0.00   16    0\n",
              "357        359  136     6.60  6.08  ...    33.28    2.72   49    0\n",
              "85          86  130     0.56  3.30  ...    27.52   33.33   45    0\n",
              "253        254  146     7.50  7.21  ...    22.51    0.51   42    0\n",
              "\n",
              "[5 rows x 11 columns]"
            ]
          },
          "metadata": {
            "tags": []
          },
          "execution_count": 9
        }
      ]
    },
    {
      "cell_type": "code",
      "metadata": {
        "colab": {
          "base_uri": "https://localhost:8080/",
          "height": 296
        },
        "id": "Ls9OC4rLBALc",
        "outputId": "8297c180-e37d-4756-acb2-2ad93918161d"
      },
      "source": [
        "sns.countplot(x='chd',data=new_df)"
      ],
      "execution_count": null,
      "outputs": [
        {
          "output_type": "execute_result",
          "data": {
            "text/plain": [
              "<matplotlib.axes._subplots.AxesSubplot at 0x7fdfbc8cfcd0>"
            ]
          },
          "metadata": {
            "tags": []
          },
          "execution_count": 10
        },
        {
          "output_type": "display_data",
          "data": {
            "image/png": "[encoded data removed]",
            "text/plain": [
              "<Figure size 432x288 with 1 Axes>"
            ]
          },
          "metadata": {
            "tags": [],
            "needs_background": "light"
          }
        }
      ]
    },
    {
      "cell_type": "markdown",
      "metadata": {
        "id": "me6xcsXEzqTf"
      },
      "source": [
        "3. Maintain two datasets – imbalanced dataset (original one) and balanced dataset – using the upsampling approach. Split each of the datasets into 80:20 splits for creating training and test sets.\n"
      ]
    },
    {
      "cell_type": "code",
      "metadata": {
        "id": "ChQCGjJw9sDv"
      },
      "source": [
        "famhist={'Present':1,'Absent':0}\n",
        "df['famhist']=df.famhist.map(famhist)\n",
        "new_df['famhist']=new_df.famhist.map(famhist)"
      ],
      "execution_count": null,
      "outputs": []
    },
    {
      "cell_type": "code",
      "metadata": {
        "id": "lMuPkOjnMt7b"
      },
      "source": [
        "from sklearn.model_selection import train_test_split\n",
        "train_NX,test_NX,train_ny,test_ny=train_test_split(new_df.loc[:,'sbp':'age'],new_df['chd'],test_size=0.2,random_state=42)\n",
        "train_X,test_X,train_y,test_y=train_test_split(df.loc[:,'sbp':'age'],df['chd'],test_size=0.2,random_state=42)"
      ],
      "execution_count": null,
      "outputs": []
    },
    {
      "cell_type": "markdown",
      "metadata": {
        "id": "GNtF1TOlBgqY"
      },
      "source": [
        "4. Build a logistic regression model using both the imbalanced and balanced datasets and compare results. Use K-fold cross-validation (k = 5) and ROC AUC score for comparing the model performance."
      ]
    },
    {
      "cell_type": "code",
      "metadata": {
        "id": "R1XN3dOmBfct"
      },
      "source": [
        "from sklearn.linear_model import LogisticRegression\n",
        "from sklearn.model_selection import cross_val_score"
      ],
      "execution_count": null,
      "outputs": []
    },
    {
      "cell_type": "code",
      "metadata": {
        "id": "NO9_KQ16AKHp"
      },
      "source": [
        "logit=LogisticRegression()\n",
        "cv_scores=cross_val_score(logit,train_X,train_y,cv=5,scoring='roc_auc')"
      ],
      "execution_count": null,
      "outputs": []
    },
    {
      "cell_type": "code",
      "metadata": {
        "colab": {
          "base_uri": "https://localhost:8080/"
        },
        "id": "WfFjB14FHyIE",
        "outputId": "846187d5-85ca-4b1b-b8fc-c351d7c666d3"
      },
      "source": [
        "print(cv_scores, np.mean(cv_scores),np.std(cv_scores))"
      ],
      "execution_count": null,
      "outputs": [
        {
          "output_type": "stream",
          "text": [
            "[0.8122449  0.78367347 0.69632653 0.74278846 0.74333333] 0.7556733385661957 0.039559292353804405\n"
          ],
          "name": "stdout"
        }
      ]
    },
    {
      "cell_type": "code",
      "metadata": {
        "id": "ZxRNExP3K2PN",
        "colab": {
          "base_uri": "https://localhost:8080/"
        },
        "outputId": "d9157799-e1a8-4748-e3e9-2d60b1a8dd7c"
      },
      "source": [
        "n_logit=LogisticRegression()\n",
        "ncv_scores=cross_val_score(n_logit,train_NX,train_ny,cv=5,scoring='roc_auc')\n",
        "print(ncv_scores, \"with mean\",np.mean(ncv_scores),\"and std dev\",np.std(ncv_scores))"
      ],
      "execution_count": null,
      "outputs": [
        {
          "output_type": "stream",
          "text": [
            "[0.74751984 0.8139881  0.79910935 0.81791192 0.7993921 ] with mean 0.7955842620736238 and std dev 0.02519658711482158\n"
          ],
          "name": "stdout"
        }
      ]
    },
    {
      "cell_type": "markdown",
      "metadata": {
        "id": "twA5gsQ9FRRq"
      },
      "source": [
        "We can clearly see that mean accuracy is higher in balanced dataset\n"
      ]
    },
    {
      "cell_type": "markdown",
      "metadata": {
        "id": "7T8lXcy1QCuz"
      },
      "source": [
        "5.Build a RandomForest model using balanced dataset Usegrid search mechanism to find the most optimal values of the following parameters:\n",
        "\n",
        " n_estimators = [50, 100, 200, 500]\n",
        "\n",
        " max_depth = [3, 5, 7, 9]\n",
        "\n",
        " max_features = [0.1, 0.2, 0.3, 0.5]\n",
        "\n",
        "Find the best model based on ROC_AUC score."
      ]
    },
    {
      "cell_type": "code",
      "metadata": {
        "id": "t3lOz7kXWdZK"
      },
      "source": [
        "from sklearn.model_selection import GridSearchCV"
      ],
      "execution_count": null,
      "outputs": []
    },
    {
      "cell_type": "code",
      "metadata": {
        "id": "oBvT-BfnExKw"
      },
      "source": [
        "from sklearn.ensemble import RandomForestClassifier"
      ],
      "execution_count": null,
      "outputs": []
    },
    {
      "cell_type": "code",
      "metadata": {
        "id": "lkU6x7I0GOQn",
        "colab": {
          "base_uri": "https://localhost:8080/"
        },
        "outputId": "bff1a9eb-48d2-46d6-a8ec-d117f7a090dd"
      },
      "source": [
        "tuned_param=[{'n_estimators' :[50, 100, 200, 500],\n",
        "              'max_depth' : [3, 5, 7, 9],\n",
        "              'max_features' :[0.1, 0.2, 0.3, 0.5]}]\n",
        "rand_clf=RandomForestClassifier()\n",
        "clf=GridSearchCV(rand_clf,tuned_param,cv=5,scoring='roc_auc')\n",
        "clf.fit(train_NX,train_ny)"
      ],
      "execution_count": null,
      "outputs": [
        {
          "output_type": "execute_result",
          "data": {
            "text/plain": [
              "GridSearchCV(cv=5, error_score=nan,\n",
              "             estimator=RandomForestClassifier(bootstrap=True, ccp_alpha=0.0,\n",
              "                                              class_weight=None,\n",
              "                                              criterion='gini', max_depth=None,\n",
              "                                              max_features='auto',\n",
              "                                              max_leaf_nodes=None,\n",
              "                                              max_samples=None,\n",
              "                                              min_impurity_decrease=0.0,\n",
              "                                              min_impurity_split=None,\n",
              "                                              min_samples_leaf=1,\n",
              "                                              min_samples_split=2,\n",
              "                                              min_weight_fraction_leaf=0.0,\n",
              "                                              n_estimators=100, n_jobs=None,\n",
              "                                              oob_score=False,\n",
              "                                              random_state=None, verbose=0,\n",
              "                                              warm_start=False),\n",
              "             iid='deprecated', n_jobs=None,\n",
              "             param_grid=[{'max_depth': [3, 5, 7, 9],\n",
              "                          'max_features': [0.1, 0.2, 0.3, 0.5],\n",
              "                          'n_estimators': [50, 100, 200, 500]}],\n",
              "             pre_dispatch='2*n_jobs', refit=True, return_train_score=False,\n",
              "             scoring='roc_auc', verbose=0)"
            ]
          },
          "metadata": {
            "tags": []
          },
          "execution_count": 19
        }
      ]
    },
    {
      "cell_type": "code",
      "metadata": {
        "colab": {
          "base_uri": "https://localhost:8080/"
        },
        "id": "uY9qZKEtXJ2g",
        "outputId": "6faadeaf-e2a1-4255-acb0-73d99499c376"
      },
      "source": [
        "clf.best_score_"
      ],
      "execution_count": null,
      "outputs": [
        {
          "output_type": "execute_result",
          "data": {
            "text/plain": [
              "0.8614057848935385"
            ]
          },
          "metadata": {
            "tags": []
          },
          "execution_count": 20
        }
      ]
    },
    {
      "cell_type": "code",
      "metadata": {
        "colab": {
          "base_uri": "https://localhost:8080/"
        },
        "id": "5s1zaV62ZZHj",
        "outputId": "a6d52d3b-3134-4bfe-f364-89c639e2c57d"
      },
      "source": [
        "clf.best_params_"
      ],
      "execution_count": null,
      "outputs": [
        {
          "output_type": "execute_result",
          "data": {
            "text/plain": [
              "{'max_depth': 9, 'max_features': 0.2, 'n_estimators': 500}"
            ]
          },
          "metadata": {
            "tags": []
          },
          "execution_count": 21
        }
      ]
    },
    {
      "cell_type": "code",
      "metadata": {
        "colab": {
          "base_uri": "https://localhost:8080/"
        },
        "id": "mqRrNsY_Zlp2",
        "outputId": "259a7629-94e3-49d4-e43a-1c1e66fcfc3a"
      },
      "source": [
        "random_clf=RandomForestClassifier(max_depth=9,\n",
        "                                  n_estimators=200,\n",
        "                                  max_features=0.2)\n",
        "random_clf.fit(train_NX,train_ny)"
      ],
      "execution_count": null,
      "outputs": [
        {
          "output_type": "execute_result",
          "data": {
            "text/plain": [
              "RandomForestClassifier(bootstrap=True, ccp_alpha=0.0, class_weight=None,\n",
              "                       criterion='gini', max_depth=9, max_features=0.2,\n",
              "                       max_leaf_nodes=None, max_samples=None,\n",
              "                       min_impurity_decrease=0.0, min_impurity_split=None,\n",
              "                       min_samples_leaf=1, min_samples_split=2,\n",
              "                       min_weight_fraction_leaf=0.0, n_estimators=200,\n",
              "                       n_jobs=None, oob_score=False, random_state=None,\n",
              "                       verbose=0, warm_start=False)"
            ]
          },
          "metadata": {
            "tags": []
          },
          "execution_count": 22
        }
      ]
    },
    {
      "cell_type": "markdown",
      "metadata": {
        "id": "cavuxUbmX2Jd"
      },
      "source": [
        "6. Find features importance from the model built in Question 5 and report the top features which explain 95% of information or variance in the dataset."
      ]
    },
    {
      "cell_type": "code",
      "metadata": {
        "colab": {
          "base_uri": "https://localhost:8080/",
          "height": 296
        },
        "id": "tCXKF70xXeoE",
        "outputId": "abaa3dc6-7c3e-479c-be42-38fd5f8de6db"
      },
      "source": [
        "feature_rank=pd.DataFrame({'features':train_NX.columns,\n",
        "                           'importance':random_clf.feature_importances_})\n",
        "sns.barplot(y='features',x='importance', data=feature_rank.sort_values('importance',ascending=False))"
      ],
      "execution_count": null,
      "outputs": [
        {
          "output_type": "execute_result",
          "data": {
            "text/plain": [
              "<matplotlib.axes._subplots.AxesSubplot at 0x7fdfa2b02890>"
            ]
          },
          "metadata": {
            "tags": []
          },
          "execution_count": 23
        },
        {
          "output_type": "display_data",
          "data": {
            "image/png": "[encoded data removed]",
            "text/plain": [
              "<Figure size 432x288 with 1 Axes>"
            ]
          },
          "metadata": {
            "tags": [],
            "needs_background": "light"
          }
        }
      ]
    },
    {
      "cell_type": "code",
      "metadata": {
        "colab": {
          "base_uri": "https://localhost:8080/",
          "height": 328
        },
        "id": "ptS4JFgweClO",
        "outputId": "0d775783-7715-4163-86b7-89cf42eb9f47"
      },
      "source": [
        "feature_rank=feature_rank.sort_values('importance',ascending=False)\n",
        "feature_rank['cum_sum']=feature_rank.importance.cumsum()*100\n",
        "feature_rank"
      ],
      "execution_count": null,
      "outputs": [
        {
          "output_type": "execute_result",
          "data": {
            "text/html": [
              "<div>\n",
              "<style scoped>\n",
              "    .dataframe tbody tr th:only-of-type {\n",
              "        vertical-align: middle;\n",
              "    }\n",
              "\n",
              "    .dataframe tbody tr th {\n",
              "        vertical-align: top;\n",
              "    }\n",
              "\n",
              "    .dataframe thead th {\n",
              "        text-align: right;\n",
              "    }\n",
              "</style>\n",
              "<table border=\"1\" class=\"dataframe\">\n",
              "  <thead>\n",
              "    <tr style=\"text-align: right;\">\n",
              "      <th></th>\n",
              "      <th>features</th>\n",
              "      <th>importance</th>\n",
              "      <th>cum_sum</th>\n",
              "    </tr>\n",
              "  </thead>\n",
              "  <tbody>\n",
              "    <tr>\n",
              "      <th>8</th>\n",
              "      <td>age</td>\n",
              "      <td>0.163818</td>\n",
              "      <td>16.381761</td>\n",
              "    </tr>\n",
              "    <tr>\n",
              "      <th>1</th>\n",
              "      <td>tobacco</td>\n",
              "      <td>0.135082</td>\n",
              "      <td>29.889935</td>\n",
              "    </tr>\n",
              "    <tr>\n",
              "      <th>2</th>\n",
              "      <td>ldl</td>\n",
              "      <td>0.130518</td>\n",
              "      <td>42.941711</td>\n",
              "    </tr>\n",
              "    <tr>\n",
              "      <th>3</th>\n",
              "      <td>adiposity</td>\n",
              "      <td>0.111963</td>\n",
              "      <td>54.138011</td>\n",
              "    </tr>\n",
              "    <tr>\n",
              "      <th>0</th>\n",
              "      <td>sbp</td>\n",
              "      <td>0.106740</td>\n",
              "      <td>64.812029</td>\n",
              "    </tr>\n",
              "    <tr>\n",
              "      <th>6</th>\n",
              "      <td>obesity</td>\n",
              "      <td>0.102652</td>\n",
              "      <td>75.077208</td>\n",
              "    </tr>\n",
              "    <tr>\n",
              "      <th>5</th>\n",
              "      <td>typea</td>\n",
              "      <td>0.096824</td>\n",
              "      <td>84.759641</td>\n",
              "    </tr>\n",
              "    <tr>\n",
              "      <th>7</th>\n",
              "      <td>alcohol</td>\n",
              "      <td>0.092837</td>\n",
              "      <td>94.043305</td>\n",
              "    </tr>\n",
              "    <tr>\n",
              "      <th>4</th>\n",
              "      <td>famhist</td>\n",
              "      <td>0.059567</td>\n",
              "      <td>100.000000</td>\n",
              "    </tr>\n",
              "  </tbody>\n",
              "</table>\n",
              "</div>"
            ],
            "text/plain": [
              "    features  importance     cum_sum\n",
              "8        age    0.163818   16.381761\n",
              "1    tobacco    0.135082   29.889935\n",
              "2        ldl    0.130518   42.941711\n",
              "3  adiposity    0.111963   54.138011\n",
              "0        sbp    0.106740   64.812029\n",
              "6    obesity    0.102652   75.077208\n",
              "5      typea    0.096824   84.759641\n",
              "7    alcohol    0.092837   94.043305\n",
              "4    famhist    0.059567  100.000000"
            ]
          },
          "metadata": {
            "tags": []
          },
          "execution_count": 24
        }
      ]
    },
    {
      "cell_type": "markdown",
      "metadata": {
        "id": "FFyxCyu7mIyW"
      },
      "source": [
        "Features that report 95% of imformationa and variance are:"
      ]
    },
    {
      "cell_type": "code",
      "metadata": {
        "colab": {
          "base_uri": "https://localhost:8080/"
        },
        "id": "UkRJG14mirA2",
        "outputId": "1a347483-1dfa-48ed-843b-b54ce13a50ba"
      },
      "source": [
        "imp_col=feature_rank.features[feature_rank.cum_sum<96].to_list()\n",
        "imp_col"
      ],
      "execution_count": null,
      "outputs": [
        {
          "output_type": "execute_result",
          "data": {
            "text/plain": [
              "['age', 'tobacco', 'ldl', 'adiposity', 'sbp', 'obesity', 'typea', 'alcohol']"
            ]
          },
          "metadata": {
            "tags": []
          },
          "execution_count": 25
        }
      ]
    },
    {
      "cell_type": "markdown",
      "metadata": {
        "id": "ZdUBI3jnsfQN"
      },
      "source": [
        "7.Build a decision tree model using the features selected above and the following parameters:\n",
        "*   max_depth = 4\n",
        "*   Criterion = “entropy”\n",
        "\n",
        "Interpret the rules generated by the decision tree. Explain how these rules can be used in the real\n",
        "world."
      ]
    },
    {
      "cell_type": "code",
      "metadata": {
        "id": "XBwHGMiLl1gY"
      },
      "source": [
        "from sklearn.tree import DecisionTreeClassifier\n",
        "clf_tree=DecisionTreeClassifier(max_depth=4,\n",
        "                                criterion='entropy')"
      ],
      "execution_count": null,
      "outputs": []
    },
    {
      "cell_type": "code",
      "metadata": {
        "colab": {
          "base_uri": "https://localhost:8080/"
        },
        "id": "jCoofCZYy-2z",
        "outputId": "ae2fbc10-5f1c-42af-c42d-f024c708fa1f"
      },
      "source": [
        "clf_tree.fit(train_NX[imp_col],train_ny)"
      ],
      "execution_count": null,
      "outputs": [
        {
          "output_type": "execute_result",
          "data": {
            "text/plain": [
              "DecisionTreeClassifier(ccp_alpha=0.0, class_weight=None, criterion='entropy',\n",
              "                       max_depth=4, max_features=None, max_leaf_nodes=None,\n",
              "                       min_impurity_decrease=0.0, min_impurity_split=None,\n",
              "                       min_samples_leaf=1, min_samples_split=2,\n",
              "                       min_weight_fraction_leaf=0.0, presort='deprecated',\n",
              "                       random_state=None, splitter='best')"
            ]
          },
          "metadata": {
            "tags": []
          },
          "execution_count": 27
        }
      ]
    },
    {
      "cell_type": "code",
      "metadata": {
        "colab": {
          "base_uri": "https://localhost:8080/",
          "height": 483
        },
        "id": "7wIvdHIrzs-4",
        "outputId": "af3fa49f-e68d-4ebd-ae88-24258d3d8792"
      },
      "source": [
        "from sklearn.tree import export_graphviz\n",
        "import pydotplus as pdot\n",
        "from IPython.display import Image\n",
        "\n",
        "export_graphviz(clf_tree, out_file='chd_tree.odt',\n",
        "                feature_names=train_NX[imp_col].columns,\n",
        "                filled=True)\n",
        "\n",
        "chd_tree_graph=pdot.graphviz.graph_from_dot_file('chd_tree.odt')\n",
        "chd_tree_graph.write_jpg('chd_tree.png')\n",
        "Image(filename='chd_tree.png')"
      ],
      "execution_count": null,
      "outputs": [
        {
          "output_type": "execute_result",
          "data": {
            "image/png": "[encoded data removed]",
            "text/plain": [
              "<IPython.core.display.Image object>"
            ]
          },
          "metadata": {
            "tags": []
          },
          "execution_count": 28
        }
      ]
    },
    {
      "cell_type": "markdown",
      "metadata": {
        "id": "BMg2TRqZ_s_K"
      },
      "source": [
        "8. How many cases of manipulators versus non-manipulators are there in the dataset? Draw a bar plot to depict.\n"
      ]
    },
    {
      "cell_type": "code",
      "metadata": {
        "id": "u3w8fFHW17EI"
      },
      "source": [
        "data=pd.read_csv('/content/Earnings Manipulation 220.csv')"
      ],
      "execution_count": null,
      "outputs": []
    },
    {
      "cell_type": "code",
      "metadata": {
        "id": "lME_1jGrT0Pi"
      },
      "source": [
        ""
      ],
      "execution_count": null,
      "outputs": []
    },
    {
      "cell_type": "code",
      "metadata": {
        "colab": {
          "base_uri": "https://localhost:8080/",
          "height": 204
        },
        "id": "4SGB0fOu_ccN",
        "outputId": "e0107f76-f759-4cab-fcc8-60c555a88f04"
      },
      "source": [
        "data.head()"
      ],
      "execution_count": null,
      "outputs": [
        {
          "output_type": "execute_result",
          "data": {
            "text/html": [
              "<div>\n",
              "<style scoped>\n",
              "    .dataframe tbody tr th:only-of-type {\n",
              "        vertical-align: middle;\n",
              "    }\n",
              "\n",
              "    .dataframe tbody tr th {\n",
              "        vertical-align: top;\n",
              "    }\n",
              "\n",
              "    .dataframe thead th {\n",
              "        text-align: right;\n",
              "    }\n",
              "</style>\n",
              "<table border=\"1\" class=\"dataframe\">\n",
              "  <thead>\n",
              "    <tr style=\"text-align: right;\">\n",
              "      <th></th>\n",
              "      <th>Company Name</th>\n",
              "      <th>Year Ending</th>\n",
              "      <th>DSRI</th>\n",
              "      <th>GMI</th>\n",
              "      <th>AQI</th>\n",
              "      <th>SGI</th>\n",
              "      <th>DEPI</th>\n",
              "      <th>SGAI</th>\n",
              "      <th>ACCR</th>\n",
              "      <th>LEVI</th>\n",
              "      <th>MANIPULATOR</th>\n",
              "    </tr>\n",
              "  </thead>\n",
              "  <tbody>\n",
              "    <tr>\n",
              "      <th>0</th>\n",
              "      <td>1</td>\n",
              "      <td>31-03-2014</td>\n",
              "      <td>1.624742</td>\n",
              "      <td>1.128927</td>\n",
              "      <td>7.185053</td>\n",
              "      <td>0.366211</td>\n",
              "      <td>1.381519</td>\n",
              "      <td>1.624145</td>\n",
              "      <td>-0.166809</td>\n",
              "      <td>1.161082</td>\n",
              "      <td>1</td>\n",
              "    </tr>\n",
              "    <tr>\n",
              "      <th>1</th>\n",
              "      <td>2</td>\n",
              "      <td>31-03-2009</td>\n",
              "      <td>1.000000</td>\n",
              "      <td>1.606492</td>\n",
              "      <td>1.004988</td>\n",
              "      <td>13.081433</td>\n",
              "      <td>0.400000</td>\n",
              "      <td>5.198207</td>\n",
              "      <td>0.060475</td>\n",
              "      <td>0.986732</td>\n",
              "      <td>1</td>\n",
              "    </tr>\n",
              "    <tr>\n",
              "      <th>2</th>\n",
              "      <td>3</td>\n",
              "      <td>31-03-2008</td>\n",
              "      <td>1.000000</td>\n",
              "      <td>1.015607</td>\n",
              "      <td>1.241389</td>\n",
              "      <td>1.475018</td>\n",
              "      <td>1.169353</td>\n",
              "      <td>0.647671</td>\n",
              "      <td>0.036732</td>\n",
              "      <td>1.264305</td>\n",
              "      <td>1</td>\n",
              "    </tr>\n",
              "    <tr>\n",
              "      <th>3</th>\n",
              "      <td>4</td>\n",
              "      <td>31-03-2014</td>\n",
              "      <td>1.486239</td>\n",
              "      <td>1.000000</td>\n",
              "      <td>0.465535</td>\n",
              "      <td>0.672840</td>\n",
              "      <td>2.000000</td>\n",
              "      <td>0.092890</td>\n",
              "      <td>0.273434</td>\n",
              "      <td>0.680975</td>\n",
              "      <td>1</td>\n",
              "    </tr>\n",
              "    <tr>\n",
              "      <th>4</th>\n",
              "      <td>5</td>\n",
              "      <td>31-03-2010</td>\n",
              "      <td>1.000000</td>\n",
              "      <td>1.369038</td>\n",
              "      <td>0.637112</td>\n",
              "      <td>0.861346</td>\n",
              "      <td>1.454676</td>\n",
              "      <td>1.741460</td>\n",
              "      <td>0.123048</td>\n",
              "      <td>0.939047</td>\n",
              "      <td>1</td>\n",
              "    </tr>\n",
              "  </tbody>\n",
              "</table>\n",
              "</div>"
            ],
            "text/plain": [
              "   Company Name Year Ending      DSRI  ...      ACCR      LEVI  MANIPULATOR\n",
              "0             1  31-03-2014  1.624742  ... -0.166809  1.161082            1\n",
              "1             2  31-03-2009  1.000000  ...  0.060475  0.986732            1\n",
              "2             3  31-03-2008  1.000000  ...  0.036732  1.264305            1\n",
              "3             4  31-03-2014  1.486239  ...  0.273434  0.680975            1\n",
              "4             5  31-03-2010  1.000000  ...  0.123048  0.939047            1\n",
              "\n",
              "[5 rows x 11 columns]"
            ]
          },
          "metadata": {},
          "execution_count": 3
        }
      ]
    },
    {
      "cell_type": "code",
      "metadata": {
        "colab": {
          "base_uri": "https://localhost:8080/"
        },
        "id": "plOBHoZC_d7K",
        "outputId": "dc49129d-de31-484f-b8d8-27152e87b251"
      },
      "source": [
        "data.shape"
      ],
      "execution_count": null,
      "outputs": [
        {
          "output_type": "execute_result",
          "data": {
            "text/plain": [
              "(220, 11)"
            ]
          },
          "metadata": {},
          "execution_count": 4
        }
      ]
    },
    {
      "cell_type": "code",
      "metadata": {
        "colab": {
          "base_uri": "https://localhost:8080/"
        },
        "id": "wpJksQmx_fvK",
        "outputId": "fd1fc71b-f982-429b-ae53-41ac7831b5ec"
      },
      "source": [
        "data.info()"
      ],
      "execution_count": null,
      "outputs": [
        {
          "output_type": "stream",
          "name": "stdout",
          "text": [
            "<class 'pandas.core.frame.DataFrame'>\n",
            "RangeIndex: 220 entries, 0 to 219\n",
            "Data columns (total 11 columns):\n",
            " #   Column        Non-Null Count  Dtype  \n",
            "---  ------        --------------  -----  \n",
            " 0   Company Name  220 non-null    int64  \n",
            " 1   Year Ending   220 non-null    object \n",
            " 2   DSRI          220 non-null    float64\n",
            " 3   GMI           220 non-null    float64\n",
            " 4   AQI           220 non-null    float64\n",
            " 5   SGI           220 non-null    float64\n",
            " 6   DEPI          220 non-null    float64\n",
            " 7   SGAI          220 non-null    float64\n",
            " 8   ACCR          220 non-null    float64\n",
            " 9   LEVI          220 non-null    float64\n",
            " 10  MANIPULATOR   220 non-null    int64  \n",
            "dtypes: float64(8), int64(2), object(1)\n",
            "memory usage: 19.0+ KB\n"
          ]
        }
      ]
    },
    {
      "cell_type": "code",
      "metadata": {
        "colab": {
          "base_uri": "https://localhost:8080/"
        },
        "id": "8FHtcMsaYpEy",
        "outputId": "717ec484-1571-42cf-aaa5-3607a5ff5c9a"
      },
      "source": [
        "data.MANIPULATOR.value_counts()"
      ],
      "execution_count": null,
      "outputs": [
        {
          "output_type": "execute_result",
          "data": {
            "text/plain": [
              "0    181\n",
              "1     39\n",
              "Name: MANIPULATOR, dtype: int64"
            ]
          },
          "metadata": {},
          "execution_count": 6
        }
      ]
    },
    {
      "cell_type": "code",
      "metadata": {
        "id": "iDYm46bv_hbY",
        "colab": {
          "base_uri": "https://localhost:8080/",
          "height": 296
        },
        "outputId": "82fc141b-2274-45eb-adce-839481d2e5e0"
      },
      "source": [
        "sns.countplot(x=data['MANIPULATOR'])"
      ],
      "execution_count": null,
      "outputs": [
        {
          "output_type": "execute_result",
          "data": {
            "text/plain": [
              "<matplotlib.axes._subplots.AxesSubplot at 0x7f405b28e4d0>"
            ]
          },
          "metadata": {},
          "execution_count": 7
        },
        {
          "output_type": "display_data",
          "data": {
            "image/png": "[encoded data removed]",
            "text/plain": [
              "<Figure size 432x288 with 1 Axes>"
            ]
          },
          "metadata": {
            "needs_background": "light"
          }
        }
      ]
    },
    {
      "cell_type": "markdown",
      "metadata": {
        "id": "SVpJESk2M1Wr"
      },
      "source": [
        "Data is imbalanced. So we need to resampling.\n"
      ]
    },
    {
      "cell_type": "code",
      "metadata": {
        "id": "g2myAmOPV1rM"
      },
      "source": [
        "data['Year Ending']=pd.to_datetime(data['Year Ending'])"
      ],
      "execution_count": null,
      "outputs": []
    },
    {
      "cell_type": "code",
      "metadata": {
        "colab": {
          "base_uri": "https://localhost:8080/"
        },
        "id": "LG-WAeyHU02B",
        "outputId": "29a0c57f-ec5b-4bc0-e693-26403c72c34b"
      },
      "source": [
        "data['Year Ending'].dtypes"
      ],
      "execution_count": null,
      "outputs": [
        {
          "output_type": "execute_result",
          "data": {
            "text/plain": [
              "dtype('<M8[ns]')"
            ]
          },
          "metadata": {},
          "execution_count": 9
        }
      ]
    },
    {
      "cell_type": "code",
      "metadata": {
        "colab": {
          "base_uri": "https://localhost:8080/"
        },
        "id": "EkeH3v3pU6ZK",
        "outputId": "91b1c506-9869-493d-d0d9-b1e454385929"
      },
      "source": [
        "data['Year Ending'].dt.day.value_counts()"
      ],
      "execution_count": null,
      "outputs": [
        {
          "output_type": "execute_result",
          "data": {
            "text/plain": [
              "31    219\n",
              "30      1\n",
              "Name: Year Ending, dtype: int64"
            ]
          },
          "metadata": {},
          "execution_count": 10
        }
      ]
    },
    {
      "cell_type": "code",
      "metadata": {
        "colab": {
          "base_uri": "https://localhost:8080/"
        },
        "id": "zaJSjCJyWB52",
        "outputId": "f38e656e-822c-43b3-d9ac-48ed208dd6ee"
      },
      "source": [
        "data['Year Ending'].dt.year.value_counts()"
      ],
      "execution_count": null,
      "outputs": [
        {
          "output_type": "execute_result",
          "data": {
            "text/plain": [
              "2014    187\n",
              "2012     11\n",
              "2008      6\n",
              "2013      4\n",
              "2010      4\n",
              "2015      3\n",
              "2009      3\n",
              "2011      2\n",
              "Name: Year Ending, dtype: int64"
            ]
          },
          "metadata": {},
          "execution_count": 11
        }
      ]
    },
    {
      "cell_type": "code",
      "metadata": {
        "id": "rC5P6iyeWZIO"
      },
      "source": [
        "data['Year Ending']= data['Year Ending'].dt.year"
      ],
      "execution_count": null,
      "outputs": []
    },
    {
      "cell_type": "markdown",
      "metadata": {
        "id": "FePy1e0ZW5l6"
      },
      "source": [
        "9. Create a 80:20 partition, and find how many positives are present in the test data."
      ]
    },
    {
      "cell_type": "code",
      "metadata": {
        "id": "HHSr8AZ-Wyob"
      },
      "source": [
        "from sklearn.model_selection import train_test_split\n",
        "train_X,test_X,train_y,test_y=train_test_split(data.loc[:,'Company Name':'LEVI'],data['MANIPULATOR'],test_size=0.2,random_state=42,stratify=data['MANIPULATOR'])"
      ],
      "execution_count": null,
      "outputs": []
    },
    {
      "cell_type": "code",
      "metadata": {
        "colab": {
          "base_uri": "https://localhost:8080/"
        },
        "id": "bga5db5qX0Ek",
        "outputId": "e2ee6167-1212-4ec8-e839-7c1f336ac2f8"
      },
      "source": [
        "test_y.value_counts()"
      ],
      "execution_count": null,
      "outputs": [
        {
          "output_type": "execute_result",
          "data": {
            "text/plain": [
              "0    36\n",
              "1     8\n",
              "Name: MANIPULATOR, dtype: int64"
            ]
          },
          "metadata": {},
          "execution_count": 14
        }
      ]
    },
    {
      "cell_type": "markdown",
      "metadata": {
        "id": "hjDzNBsMcegI"
      },
      "source": [
        "10. The number of cases of manipulators are very less compared to non-manipulators. Use upsampling\n",
        "technique to create a balance dataset."
      ]
    },
    {
      "cell_type": "code",
      "metadata": {
        "colab": {
          "base_uri": "https://localhost:8080/"
        },
        "id": "3NqEB_BifUEd",
        "outputId": "d8280cf0-0345-4c72-d30e-47ce390c18fc"
      },
      "source": [
        "train_X.shape"
      ],
      "execution_count": null,
      "outputs": [
        {
          "output_type": "execute_result",
          "data": {
            "text/plain": [
              "(176, 10)"
            ]
          },
          "metadata": {},
          "execution_count": 15
        }
      ]
    },
    {
      "cell_type": "code",
      "metadata": {
        "id": "slkILsqScdcH"
      },
      "source": [
        "train=train_X.join(train_y)"
      ],
      "execution_count": null,
      "outputs": []
    },
    {
      "cell_type": "code",
      "metadata": {
        "colab": {
          "base_uri": "https://localhost:8080/"
        },
        "id": "9uPQETpNfjX7",
        "outputId": "c31408ed-60c2-4673-c727-46e90d4bd86e"
      },
      "source": [
        "train.MANIPULATOR.value_counts()"
      ],
      "execution_count": null,
      "outputs": [
        {
          "output_type": "execute_result",
          "data": {
            "text/plain": [
              "0    145\n",
              "1     31\n",
              "Name: MANIPULATOR, dtype: int64"
            ]
          },
          "metadata": {},
          "execution_count": 17
        }
      ]
    },
    {
      "cell_type": "code",
      "metadata": {
        "id": "IXeelJuCYKFD"
      },
      "source": [
        "from sklearn.utils import resample"
      ],
      "execution_count": null,
      "outputs": []
    },
    {
      "cell_type": "code",
      "metadata": {
        "id": "Sg5gwt6DexYU"
      },
      "source": [
        "train_upsample=resample(train[train['MANIPULATOR']==1],replace=True,n_samples=114)"
      ],
      "execution_count": null,
      "outputs": []
    },
    {
      "cell_type": "code",
      "metadata": {
        "id": "pXzYwZo4fsrt"
      },
      "source": [
        "new_train=pd.concat([train,train_upsample])"
      ],
      "execution_count": null,
      "outputs": []
    },
    {
      "cell_type": "code",
      "metadata": {
        "colab": {
          "base_uri": "https://localhost:8080/"
        },
        "id": "_06YyIqfexWq",
        "outputId": "dda617d4-9c2e-4e4d-a0fd-4399cf7c5e8d"
      },
      "source": [
        "new_train.loc[:,'MANIPULATOR'].head()"
      ],
      "execution_count": null,
      "outputs": [
        {
          "output_type": "execute_result",
          "data": {
            "text/plain": [
              "5      1\n",
              "184    0\n",
              "165    0\n",
              "137    0\n",
              "62     0\n",
              "Name: MANIPULATOR, dtype: int64"
            ]
          },
          "metadata": {},
          "execution_count": 21
        }
      ]
    },
    {
      "cell_type": "markdown",
      "metadata": {
        "id": "FkjwBtB9nkoe"
      },
      "source": [
        "11. Build the following models using balanced dataset and compare the accuracies. Use ROC AUC score for accuracy.                  \n",
        "\n",
        " Random Forest\n",
        "\n",
        " AdaBoost with Logistic Regression as base estimator\n",
        "\n",
        " Gradient Boosting\n",
        "\n",
        "\n",
        "\n"
      ]
    },
    {
      "cell_type": "code",
      "metadata": {
        "colab": {
          "base_uri": "https://localhost:8080/"
        },
        "id": "XDuxK7VYVzQs",
        "outputId": "e58eaa10-f277-43df-d945-29b7fca43571"
      },
      "source": [
        "tuned_parameters=[{'max_depth':[10,15],\n",
        "                   'n_estimators':[10,20],\n",
        "                   'max_features':['sqrt',0.2]}]\n",
        "from sklearn.ensemble import RandomForestClassifier\n",
        "\n",
        "randf_clf=RandomForestClassifier()\n",
        "clf=GridSearchCV(randf_clf,tuned_parameters,cv=5,scoring='roc_auc')\n",
        "\n",
        "clf.fit(new_train.loc[:,'Year Ending':'LEVI'],new_train.loc[:,'MANIPULATOR'])"
      ],
      "execution_count": null,
      "outputs": [
        {
          "output_type": "execute_result",
          "data": {
            "text/plain": [
              "GridSearchCV(cv=5, error_score=nan,\n",
              "             estimator=RandomForestClassifier(bootstrap=True, ccp_alpha=0.0,\n",
              "                                              class_weight=None,\n",
              "                                              criterion='gini', max_depth=None,\n",
              "                                              max_features='auto',\n",
              "                                              max_leaf_nodes=None,\n",
              "                                              max_samples=None,\n",
              "                                              min_impurity_decrease=0.0,\n",
              "                                              min_impurity_split=None,\n",
              "                                              min_samples_leaf=1,\n",
              "                                              min_samples_split=2,\n",
              "                                              min_weight_fraction_leaf=0.0,\n",
              "                                              n_estimators=100, n_jobs=None,\n",
              "                                              oob_score=False,\n",
              "                                              random_state=None, verbose=0,\n",
              "                                              warm_start=False),\n",
              "             iid='deprecated', n_jobs=None,\n",
              "             param_grid=[{'max_depth': [10, 15], 'max_features': ['sqrt', 0.2],\n",
              "                          'n_estimators': [10, 20]}],\n",
              "             pre_dispatch='2*n_jobs', refit=True, return_train_score=False,\n",
              "             scoring='roc_auc', verbose=0)"
            ]
          },
          "metadata": {},
          "execution_count": 65
        }
      ]
    },
    {
      "cell_type": "code",
      "metadata": {
        "colab": {
          "base_uri": "https://localhost:8080/"
        },
        "id": "TDAjqUMDGlht",
        "outputId": "e4aa6493-b16a-4449-a27d-e8d2cef6e48f"
      },
      "source": [
        "clf.best_score_"
      ],
      "execution_count": null,
      "outputs": [
        {
          "output_type": "execute_result",
          "data": {
            "text/plain": [
              "1.0"
            ]
          },
          "metadata": {},
          "execution_count": 66
        }
      ]
    },
    {
      "cell_type": "code",
      "metadata": {
        "colab": {
          "base_uri": "https://localhost:8080/"
        },
        "id": "LLgdSQiF7ClV",
        "outputId": "a7dc3543-5260-4ae5-c6cc-9a75cf8202f6"
      },
      "source": [
        "tuned_parameters=[{'max_depth':[10,15],\n",
        "                   'n_estimators':[10,20],\n",
        "                   'max_features':['sqrt',0.2]}]\n",
        "from sklearn.ensemble import RandomForestClassifier\n",
        "\n",
        "randf_clf=RandomForestClassifier()\n",
        "clf=GridSearchCV(randf_clf,tuned_parameters,cv=5,scoring='roc_auc')\n",
        "\n",
        "clf.fit(train_X,train_y)\n",
        "clf.best_score_"
      ],
      "execution_count": null,
      "outputs": [
        {
          "output_type": "execute_result",
          "data": {
            "text/plain": [
              "1.0"
            ]
          },
          "metadata": {},
          "execution_count": 107
        }
      ]
    },
    {
      "cell_type": "code",
      "metadata": {
        "colab": {
          "base_uri": "https://localhost:8080/"
        },
        "id": "cri02DwWT2df",
        "outputId": "b72acacb-8d9f-487d-f3ed-9eefff95851d"
      },
      "source": [
        "clf.best_params_11"
      ],
      "execution_count": null,
      "outputs": [
        {
          "output_type": "execute_result",
          "data": {
            "text/plain": [
              "{'max_depth': 10, 'max_features': 'sqrt', 'n_estimators': 10}"
            ]
          },
          "metadata": {},
          "execution_count": 108
        }
      ]
    },
    {
      "cell_type": "code",
      "metadata": {
        "colab": {
          "base_uri": "https://localhost:8080/"
        },
        "id": "31rL6mLmHK5t",
        "outputId": "6259878b-052b-404e-e40d-fb9c578d3a26"
      },
      "source": [
        "clf.best_params_"
      ],
      "execution_count": null,
      "outputs": [
        {
          "output_type": "execute_result",
          "data": {
            "text/plain": [
              "{'max_depth': 10, 'max_features': 'sqrt', 'n_estimators': 20}"
            ]
          },
          "metadata": {},
          "execution_count": 67
        }
      ]
    },
    {
      "cell_type": "code",
      "metadata": {
        "colab": {
          "base_uri": "https://localhost:8080/"
        },
        "id": "5t1OJfrpU3B5",
        "outputId": "d5ea0386-aa49-4404-ab38-b792ddfdc541"
      },
      "source": [
        "randfrst_clf=RandomForestClassifier(max_depth= 10, max_features='sqrt', n_estimators= 10)\n",
        "randfrst_clf.fit(train_X,train_y)"
      ],
      "execution_count": null,
      "outputs": [
        {
          "output_type": "execute_result",
          "data": {
            "text/plain": [
              "RandomForestClassifier(bootstrap=True, ccp_alpha=0.0, class_weight=None,\n",
              "                       criterion='gini', max_depth=10, max_features='sqrt',\n",
              "                       max_leaf_nodes=None, max_samples=None,\n",
              "                       min_impurity_decrease=0.0, min_impurity_split=None,\n",
              "                       min_samples_leaf=1, min_samples_split=2,\n",
              "                       min_weight_fraction_leaf=0.0, n_estimators=10,\n",
              "                       n_jobs=None, oob_score=False, random_state=None,\n",
              "                       verbose=0, warm_start=False)"
            ]
          },
          "metadata": {},
          "execution_count": 109
        }
      ]
    },
    {
      "cell_type": "code",
      "metadata": {
        "colab": {
          "base_uri": "https://localhost:8080/"
        },
        "id": "V5JbG1o_HPHM",
        "outputId": "9ad74476-d940-499f-c51f-a159f94febef"
      },
      "source": [
        "randfrst_clf=RandomForestClassifier(max_depth= 10, max_features='sqrt', n_estimators= 10)\n",
        "randfrst_clf.fit(new_train.loc[:,'Year Ending':'LEVI'],new_train.loc[:,'MANIPULATOR'])\n",
        "\n"
      ],
      "execution_count": null,
      "outputs": [
        {
          "output_type": "execute_result",
          "data": {
            "text/plain": [
              "RandomForestClassifier(bootstrap=True, ccp_alpha=0.0, class_weight=None,\n",
              "                       criterion='gini', max_depth=10, max_features='sqrt',\n",
              "                       max_leaf_nodes=None, max_samples=None,\n",
              "                       min_impurity_decrease=0.0, min_impurity_split=None,\n",
              "                       min_samples_leaf=1, min_samples_split=2,\n",
              "                       min_weight_fraction_leaf=0.0, n_estimators=10,\n",
              "                       n_jobs=None, oob_score=False, random_state=None,\n",
              "                       verbose=0, warm_start=False)"
            ]
          },
          "metadata": {},
          "execution_count": 68
        }
      ]
    },
    {
      "cell_type": "code",
      "metadata": {
        "id": "QlK2WyzqT2Lf"
      },
      "source": [
        "from sklearn import metrics"
      ],
      "execution_count": null,
      "outputs": []
    },
    {
      "cell_type": "code",
      "metadata": {
        "id": "Ey3iLKXEUeli"
      },
      "source": [
        "predict_prob=pd.DataFrame(randfrst_clf.predict_proba(test_X),columns=['no','yes'])"
      ],
      "execution_count": null,
      "outputs": []
    },
    {
      "cell_type": "code",
      "metadata": {
        "colab": {
          "base_uri": "https://localhost:8080/",
          "height": 204
        },
        "id": "PJsktZ6ZU9MO",
        "outputId": "05e28281-18e3-45c8-ac51-afb81f5d1e58"
      },
      "source": [
        "test_X.head()"
      ],
      "execution_count": null,
      "outputs": [
        {
          "output_type": "execute_result",
          "data": {
            "text/html": [
              "<div>\n",
              "<style scoped>\n",
              "    .dataframe tbody tr th:only-of-type {\n",
              "        vertical-align: middle;\n",
              "    }\n",
              "\n",
              "    .dataframe tbody tr th {\n",
              "        vertical-align: top;\n",
              "    }\n",
              "\n",
              "    .dataframe thead th {\n",
              "        text-align: right;\n",
              "    }\n",
              "</style>\n",
              "<table border=\"1\" class=\"dataframe\">\n",
              "  <thead>\n",
              "    <tr style=\"text-align: right;\">\n",
              "      <th></th>\n",
              "      <th>Company Name</th>\n",
              "      <th>Year Ending</th>\n",
              "      <th>DSRI</th>\n",
              "      <th>GMI</th>\n",
              "      <th>AQI</th>\n",
              "      <th>SGI</th>\n",
              "      <th>DEPI</th>\n",
              "      <th>SGAI</th>\n",
              "      <th>ACCR</th>\n",
              "      <th>LEVI</th>\n",
              "    </tr>\n",
              "  </thead>\n",
              "  <tbody>\n",
              "    <tr>\n",
              "      <th>127</th>\n",
              "      <td>128</td>\n",
              "      <td>2014</td>\n",
              "      <td>1.138698</td>\n",
              "      <td>1.023652</td>\n",
              "      <td>1.040149</td>\n",
              "      <td>1.271624</td>\n",
              "      <td>0.922946</td>\n",
              "      <td>1.141844</td>\n",
              "      <td>0.014421</td>\n",
              "      <td>0.989918</td>\n",
              "    </tr>\n",
              "    <tr>\n",
              "      <th>31</th>\n",
              "      <td>32</td>\n",
              "      <td>2013</td>\n",
              "      <td>1.322662</td>\n",
              "      <td>1.000000</td>\n",
              "      <td>0.939322</td>\n",
              "      <td>1.215182</td>\n",
              "      <td>1.047782</td>\n",
              "      <td>1.206064</td>\n",
              "      <td>0.041868</td>\n",
              "      <td>0.848333</td>\n",
              "    </tr>\n",
              "    <tr>\n",
              "      <th>36</th>\n",
              "      <td>37</td>\n",
              "      <td>2015</td>\n",
              "      <td>1.427451</td>\n",
              "      <td>1.005147</td>\n",
              "      <td>0.465712</td>\n",
              "      <td>1.569888</td>\n",
              "      <td>0.906374</td>\n",
              "      <td>0.849488</td>\n",
              "      <td>0.197597</td>\n",
              "      <td>0.842004</td>\n",
              "    </tr>\n",
              "    <tr>\n",
              "      <th>102</th>\n",
              "      <td>103</td>\n",
              "      <td>2014</td>\n",
              "      <td>1.080524</td>\n",
              "      <td>1.001379</td>\n",
              "      <td>1.003719</td>\n",
              "      <td>1.191511</td>\n",
              "      <td>0.950242</td>\n",
              "      <td>0.905956</td>\n",
              "      <td>-0.053091</td>\n",
              "      <td>1.141956</td>\n",
              "    </tr>\n",
              "    <tr>\n",
              "      <th>40</th>\n",
              "      <td>41</td>\n",
              "      <td>2014</td>\n",
              "      <td>1.101014</td>\n",
              "      <td>0.985565</td>\n",
              "      <td>9.852416</td>\n",
              "      <td>1.013278</td>\n",
              "      <td>1.058948</td>\n",
              "      <td>0.871900</td>\n",
              "      <td>-0.044073</td>\n",
              "      <td>0.984907</td>\n",
              "    </tr>\n",
              "  </tbody>\n",
              "</table>\n",
              "</div>"
            ],
            "text/plain": [
              "     Company Name  Year Ending      DSRI  ...      SGAI      ACCR      LEVI\n",
              "127           128         2014  1.138698  ...  1.141844  0.014421  0.989918\n",
              "31             32         2013  1.322662  ...  1.206064  0.041868  0.848333\n",
              "36             37         2015  1.427451  ...  0.849488  0.197597  0.842004\n",
              "102           103         2014  1.080524  ...  0.905956 -0.053091  1.141956\n",
              "40             41         2014  1.101014  ...  0.871900 -0.044073  0.984907\n",
              "\n",
              "[5 rows x 10 columns]"
            ]
          },
          "metadata": {},
          "execution_count": 113
        }
      ]
    },
    {
      "cell_type": "code",
      "metadata": {
        "colab": {
          "base_uri": "https://localhost:8080/"
        },
        "id": "rYV_HW3QU1DJ",
        "outputId": "a5c5fb05-64d8-4461-99c3-7046cdb4eb1b"
      },
      "source": [
        "test_y.head()"
      ],
      "execution_count": null,
      "outputs": [
        {
          "output_type": "execute_result",
          "data": {
            "text/plain": [
              "127    0\n",
              "31     1\n",
              "36     1\n",
              "102    0\n",
              "40     0\n",
              "Name: MANIPULATOR, dtype: int64"
            ]
          },
          "metadata": {},
          "execution_count": 114
        }
      ]
    },
    {
      "cell_type": "code",
      "metadata": {
        "colab": {
          "base_uri": "https://localhost:8080/",
          "height": 204
        },
        "id": "aWyNktmXcKdW",
        "outputId": "ff085ca0-cd4b-4856-8694-9efe632387c7"
      },
      "source": [
        "predict_prob.reset_index().head()"
      ],
      "execution_count": null,
      "outputs": [
        {
          "output_type": "execute_result",
          "data": {
            "text/html": [
              "<div>\n",
              "<style scoped>\n",
              "    .dataframe tbody tr th:only-of-type {\n",
              "        vertical-align: middle;\n",
              "    }\n",
              "\n",
              "    .dataframe tbody tr th {\n",
              "        vertical-align: top;\n",
              "    }\n",
              "\n",
              "    .dataframe thead th {\n",
              "        text-align: right;\n",
              "    }\n",
              "</style>\n",
              "<table border=\"1\" class=\"dataframe\">\n",
              "  <thead>\n",
              "    <tr style=\"text-align: right;\">\n",
              "      <th></th>\n",
              "      <th>index</th>\n",
              "      <th>no</th>\n",
              "      <th>yes</th>\n",
              "    </tr>\n",
              "  </thead>\n",
              "  <tbody>\n",
              "    <tr>\n",
              "      <th>0</th>\n",
              "      <td>0</td>\n",
              "      <td>1.0</td>\n",
              "      <td>0.0</td>\n",
              "    </tr>\n",
              "    <tr>\n",
              "      <th>1</th>\n",
              "      <td>1</td>\n",
              "      <td>0.0</td>\n",
              "      <td>1.0</td>\n",
              "    </tr>\n",
              "    <tr>\n",
              "      <th>2</th>\n",
              "      <td>2</td>\n",
              "      <td>0.2</td>\n",
              "      <td>0.8</td>\n",
              "    </tr>\n",
              "    <tr>\n",
              "      <th>3</th>\n",
              "      <td>3</td>\n",
              "      <td>1.0</td>\n",
              "      <td>0.0</td>\n",
              "    </tr>\n",
              "    <tr>\n",
              "      <th>4</th>\n",
              "      <td>4</td>\n",
              "      <td>1.0</td>\n",
              "      <td>0.0</td>\n",
              "    </tr>\n",
              "  </tbody>\n",
              "</table>\n",
              "</div>"
            ],
            "text/plain": [
              "   index   no  yes\n",
              "0      0  1.0  0.0\n",
              "1      1  0.0  1.0\n",
              "2      2  0.2  0.8\n",
              "3      3  1.0  0.0\n",
              "4      4  1.0  0.0"
            ]
          },
          "metadata": {},
          "execution_count": 115
        }
      ]
    },
    {
      "cell_type": "code",
      "metadata": {
        "colab": {
          "base_uri": "https://localhost:8080/",
          "height": 204
        },
        "id": "VhAuSW7cYazA",
        "outputId": "b9e88bb8-9c1a-4e74-c636-ddfe6f313e40"
      },
      "source": [
        "test_result_df=pd.DataFrame({'Actual':test_y})\n",
        "test_result_df=test_result_df.reset_index()\n",
        "test_result_df.head()"
      ],
      "execution_count": null,
      "outputs": [
        {
          "output_type": "execute_result",
          "data": {
            "text/html": [
              "<div>\n",
              "<style scoped>\n",
              "    .dataframe tbody tr th:only-of-type {\n",
              "        vertical-align: middle;\n",
              "    }\n",
              "\n",
              "    .dataframe tbody tr th {\n",
              "        vertical-align: top;\n",
              "    }\n",
              "\n",
              "    .dataframe thead th {\n",
              "        text-align: right;\n",
              "    }\n",
              "</style>\n",
              "<table border=\"1\" class=\"dataframe\">\n",
              "  <thead>\n",
              "    <tr style=\"text-align: right;\">\n",
              "      <th></th>\n",
              "      <th>index</th>\n",
              "      <th>Actual</th>\n",
              "    </tr>\n",
              "  </thead>\n",
              "  <tbody>\n",
              "    <tr>\n",
              "      <th>0</th>\n",
              "      <td>127</td>\n",
              "      <td>0</td>\n",
              "    </tr>\n",
              "    <tr>\n",
              "      <th>1</th>\n",
              "      <td>31</td>\n",
              "      <td>1</td>\n",
              "    </tr>\n",
              "    <tr>\n",
              "      <th>2</th>\n",
              "      <td>36</td>\n",
              "      <td>1</td>\n",
              "    </tr>\n",
              "    <tr>\n",
              "      <th>3</th>\n",
              "      <td>102</td>\n",
              "      <td>0</td>\n",
              "    </tr>\n",
              "    <tr>\n",
              "      <th>4</th>\n",
              "      <td>40</td>\n",
              "      <td>0</td>\n",
              "    </tr>\n",
              "  </tbody>\n",
              "</table>\n",
              "</div>"
            ],
            "text/plain": [
              "   index  Actual\n",
              "0    127       0\n",
              "1     31       1\n",
              "2     36       1\n",
              "3    102       0\n",
              "4     40       0"
            ]
          },
          "metadata": {},
          "execution_count": 116
        }
      ]
    },
    {
      "cell_type": "code",
      "metadata": {
        "id": "BPL7fVU4ajId"
      },
      "source": [
        "fpr,tpr,threshold=metrics.roc_curve(test_result_df['Actual'],predict_prob['yes'],drop_intermediate=False)"
      ],
      "execution_count": null,
      "outputs": []
    },
    {
      "cell_type": "code",
      "metadata": {
        "colab": {
          "base_uri": "https://localhost:8080/"
        },
        "id": "TD73MVqbdMdU",
        "outputId": "72a946de-d89e-4803-e1fd-ca4ba12f3545"
      },
      "source": [
        "auc_score=metrics.roc_auc_score(test_result_df['Actual'],predict_prob['yes'])\n",
        "auc_score"
      ],
      "execution_count": null,
      "outputs": [
        {
          "output_type": "execute_result",
          "data": {
            "text/plain": [
              "1.0"
            ]
          },
          "metadata": {},
          "execution_count": 118
        }
      ]
    },
    {
      "cell_type": "code",
      "metadata": {
        "colab": {
          "base_uri": "https://localhost:8080/",
          "height": 497
        },
        "id": "cSRJxGgfdPum",
        "outputId": "a12c1a70-34a7-456d-c9ad-b4cd02a73278"
      },
      "source": [
        "plt.figure(figsize=[7,8])\n",
        "plt.plot(fpr,tpr,label='roc curve (area=%0.2f)' % auc_score)\n",
        "plt.plot([0,1],[0,1],'k--')\n",
        "plt.xlim([0,1])\n",
        "plt.ylim([0,1.5])\n",
        "plt.xlabel('fpr')\n",
        "plt.ylabel('tpr')\n",
        "plt.legend(loc='lower right')\n",
        "plt.show()\n"
      ],
      "execution_count": null,
      "outputs": [
        {
          "output_type": "display_data",
          "data": {
            "image/png": "[encoded data removed]",
            "text/plain": [
              "<Figure size 504x576 with 1 Axes>"
            ]
          },
          "metadata": {
            "needs_background": "light"
          }
        }
      ]
    },
    {
      "cell_type": "code",
      "metadata": {
        "id": "XKRKLZpupS60"
      },
      "source": [
        "from sklearn.linear_model import LogisticRegression"
      ],
      "execution_count": null,
      "outputs": []
    },
    {
      "cell_type": "code",
      "metadata": {
        "id": "jeVYaWaqoiwy"
      },
      "source": [
        "from sklearn.ensemble import AdaBoostClassifier\n",
        "logref_clf=LogisticRegression()"
      ],
      "execution_count": null,
      "outputs": []
    },
    {
      "cell_type": "code",
      "metadata": {
        "colab": {
          "base_uri": "https://localhost:8080/"
        },
        "id": "wpi6Ke5dpzD_",
        "outputId": "cd60c4c0-d40e-4260-cd33-d79fcd8b2ece"
      },
      "source": [
        "ada_clf= AdaBoostClassifier(logref_clf,n_estimators=50)\n",
        "ada_clf.fit(new_train.loc[:,'Year Ending':'LEVI'],new_train.loc[:,'MANIPULATOR'])"
      ],
      "execution_count": null,
      "outputs": [
        {
          "output_type": "execute_result",
          "data": {
            "text/plain": [
              "AdaBoostClassifier(algorithm='SAMME.R',\n",
              "                   base_estimator=LogisticRegression(C=1.0, class_weight=None,\n",
              "                                                     dual=False,\n",
              "                                                     fit_intercept=True,\n",
              "                                                     intercept_scaling=1,\n",
              "                                                     l1_ratio=None,\n",
              "                                                     max_iter=100,\n",
              "                                                     multi_class='auto',\n",
              "                                                     n_jobs=None, penalty='l2',\n",
              "                                                     random_state=None,\n",
              "                                                     solver='lbfgs', tol=0.0001,\n",
              "                                                     verbose=0,\n",
              "                                                     warm_start=False),\n",
              "                   learning_rate=1.0, n_estimators=50, random_state=None)"
            ]
          },
          "metadata": {},
          "execution_count": 95
        }
      ]
    },
    {
      "cell_type": "code",
      "metadata": {
        "id": "FMYkLweH7i7X"
      },
      "source": [
        "ada_prob=pd.DataFrame(ada_clf.predict_proba(test_X.loc[:,'Year Ending':'LEVI']),columns=['no','yes'])"
      ],
      "execution_count": null,
      "outputs": []
    },
    {
      "cell_type": "code",
      "metadata": {
        "colab": {
          "base_uri": "https://localhost:8080/",
          "height": 204
        },
        "id": "OJZ4kb-G7zj2",
        "outputId": "3587acc4-2add-42a8-e6ed-3d677357ef2a"
      },
      "source": [
        "ada_prob.head()"
      ],
      "execution_count": null,
      "outputs": [
        {
          "output_type": "execute_result",
          "data": {
            "text/html": [
              "<div>\n",
              "<style scoped>\n",
              "    .dataframe tbody tr th:only-of-type {\n",
              "        vertical-align: middle;\n",
              "    }\n",
              "\n",
              "    .dataframe tbody tr th {\n",
              "        vertical-align: top;\n",
              "    }\n",
              "\n",
              "    .dataframe thead th {\n",
              "        text-align: right;\n",
              "    }\n",
              "</style>\n",
              "<table border=\"1\" class=\"dataframe\">\n",
              "  <thead>\n",
              "    <tr style=\"text-align: right;\">\n",
              "      <th></th>\n",
              "      <th>no</th>\n",
              "      <th>yes</th>\n",
              "    </tr>\n",
              "  </thead>\n",
              "  <tbody>\n",
              "    <tr>\n",
              "      <th>0</th>\n",
              "      <td>0.508755</td>\n",
              "      <td>0.491245</td>\n",
              "    </tr>\n",
              "    <tr>\n",
              "      <th>1</th>\n",
              "      <td>0.500294</td>\n",
              "      <td>0.499706</td>\n",
              "    </tr>\n",
              "    <tr>\n",
              "      <th>2</th>\n",
              "      <td>0.511262</td>\n",
              "      <td>0.488738</td>\n",
              "    </tr>\n",
              "    <tr>\n",
              "      <th>3</th>\n",
              "      <td>0.510823</td>\n",
              "      <td>0.489177</td>\n",
              "    </tr>\n",
              "    <tr>\n",
              "      <th>4</th>\n",
              "      <td>0.488606</td>\n",
              "      <td>0.511394</td>\n",
              "    </tr>\n",
              "  </tbody>\n",
              "</table>\n",
              "</div>"
            ],
            "text/plain": [
              "         no       yes\n",
              "0  0.508755  0.491245\n",
              "1  0.500294  0.499706\n",
              "2  0.511262  0.488738\n",
              "3  0.510823  0.489177\n",
              "4  0.488606  0.511394"
            ]
          },
          "metadata": {},
          "execution_count": 99
        }
      ]
    },
    {
      "cell_type": "code",
      "metadata": {
        "colab": {
          "base_uri": "https://localhost:8080/"
        },
        "id": "R2jQU-4x9Jvk",
        "outputId": "d390eff2-cabf-4e74-8606-8f2767a983fe"
      },
      "source": [
        "metrics.roc_auc_score(test_result_df['Actual'],ada_prob['yes'])"
      ],
      "execution_count": null,
      "outputs": [
        {
          "output_type": "execute_result",
          "data": {
            "text/plain": [
              "0.9305555555555556"
            ]
          },
          "metadata": {},
          "execution_count": 100
        }
      ]
    },
    {
      "cell_type": "code",
      "metadata": {
        "id": "Ap_ePh0aAqF9"
      },
      "source": [
        "from sklearn.ensemble import GradientBoostingClassifier\n"
      ],
      "execution_count": null,
      "outputs": []
    },
    {
      "cell_type": "code",
      "metadata": {
        "id": "b_DuVVX6Gwit"
      },
      "source": [
        "gboost_clf = GradientBoostingClassifier( n_estimators=500, max_depth=10)"
      ],
      "execution_count": null,
      "outputs": []
    },
    {
      "cell_type": "code",
      "metadata": {
        "id": "QLaoUWGBLBRO"
      },
      "source": [
        "gboost_clf.fit(new_train.loc[:,'Year Ending':'LEVI'],new_train.loc[:,'MANIPULATOR'])\n",
        "gboost_prob=pd.DataFrame(gboost_clf.predict_proba(test_X.loc[:,'Year Ending':'LEVI']),columns=['no','yes'])"
      ],
      "execution_count": null,
      "outputs": []
    },
    {
      "cell_type": "code",
      "metadata": {
        "colab": {
          "base_uri": "https://localhost:8080/",
          "height": 204
        },
        "id": "tbK896lnLLoy",
        "outputId": "99b3df03-bce4-470a-f775-dde2c13c86e5"
      },
      "source": [
        "gboost_prob.head()"
      ],
      "execution_count": null,
      "outputs": [
        {
          "output_type": "execute_result",
          "data": {
            "text/html": [
              "<div>\n",
              "<style scoped>\n",
              "    .dataframe tbody tr th:only-of-type {\n",
              "        vertical-align: middle;\n",
              "    }\n",
              "\n",
              "    .dataframe tbody tr th {\n",
              "        vertical-align: top;\n",
              "    }\n",
              "\n",
              "    .dataframe thead th {\n",
              "        text-align: right;\n",
              "    }\n",
              "</style>\n",
              "<table border=\"1\" class=\"dataframe\">\n",
              "  <thead>\n",
              "    <tr style=\"text-align: right;\">\n",
              "      <th></th>\n",
              "      <th>no</th>\n",
              "      <th>yes</th>\n",
              "    </tr>\n",
              "  </thead>\n",
              "  <tbody>\n",
              "    <tr>\n",
              "      <th>0</th>\n",
              "      <td>0.999725</td>\n",
              "      <td>0.000275</td>\n",
              "    </tr>\n",
              "    <tr>\n",
              "      <th>1</th>\n",
              "      <td>0.000196</td>\n",
              "      <td>0.999804</td>\n",
              "    </tr>\n",
              "    <tr>\n",
              "      <th>2</th>\n",
              "      <td>0.000925</td>\n",
              "      <td>0.999075</td>\n",
              "    </tr>\n",
              "    <tr>\n",
              "      <th>3</th>\n",
              "      <td>0.999725</td>\n",
              "      <td>0.000275</td>\n",
              "    </tr>\n",
              "    <tr>\n",
              "      <th>4</th>\n",
              "      <td>0.001225</td>\n",
              "      <td>0.998775</td>\n",
              "    </tr>\n",
              "  </tbody>\n",
              "</table>\n",
              "</div>"
            ],
            "text/plain": [
              "         no       yes\n",
              "0  0.999725  0.000275\n",
              "1  0.000196  0.999804\n",
              "2  0.000925  0.999075\n",
              "3  0.999725  0.000275\n",
              "4  0.001225  0.998775"
            ]
          },
          "metadata": {},
          "execution_count": 105
        }
      ]
    },
    {
      "cell_type": "code",
      "metadata": {
        "colab": {
          "base_uri": "https://localhost:8080/"
        },
        "id": "hgYFBL_CLa_E",
        "outputId": "3dfd3b01-d25a-45d1-f473-2db1705a5394"
      },
      "source": [
        "metrics.roc_auc_score(test_result_df['Actual'],gboost_prob['yes'])"
      ],
      "execution_count": null,
      "outputs": [
        {
          "output_type": "execute_result",
          "data": {
            "text/plain": [
              "1.0"
            ]
          },
          "metadata": {},
          "execution_count": 106
        }
      ]
    },
    {
      "cell_type": "code",
      "metadata": {
        "colab": {
          "base_uri": "https://localhost:8080/",
          "height": 296
        },
        "id": "ikm5r1cnLjxZ",
        "outputId": "946f4f39-9a03-46ce-d7a4-6ff7f9c3a83c"
      },
      "source": [
        "feature_rank=pd.DataFrame({'feature':train_X.loc[:,'Year Ending':].columns,'rank':gboost_clf.feature_importances_})\n",
        "feature_rank=feature_rank.sort_values('rank',ascending=False)\n",
        "sns.barplot(data=feature_rank,y='feature',x='rank')"
      ],
      "execution_count": null,
      "outputs": [
        {
          "output_type": "execute_result",
          "data": {
            "text/plain": [
              "<matplotlib.axes._subplots.AxesSubplot at 0x7f4059352510>"
            ]
          },
          "metadata": {},
          "execution_count": 123
        },
        {
          "output_type": "display_data",
          "data": {
            "image/png": "[encoded data removed]",
            "text/plain": [
              "<Figure size 432x288 with 1 Axes>"
            ]
          },
          "metadata": {
            "needs_background": "light"
          }
        }
      ]
    },
    {
      "cell_type": "code",
      "metadata": {
        "id": "VSDKxS-oWo3V"
      },
      "source": [
        ""
      ],
      "execution_count": null,
      "outputs": []
    }
  ]
}