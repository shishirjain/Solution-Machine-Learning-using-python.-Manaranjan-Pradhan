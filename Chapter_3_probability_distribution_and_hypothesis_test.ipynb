{
  "nbformat": 4,
  "nbformat_minor": 0,
  "metadata": {
    "colab": {
      "name": "Chapter 3 probability distribution and hypothesis test.ipynb",
      "provenance": [],
      "authorship_tag": "ABX9TyMVBL5AFOwMmA+3ZcTe54l4",
      "include_colab_link": true
    },
    "kernelspec": {
      "name": "python3",
      "display_name": "Python 3"
    },
    "language_info": {
      "name": "python"
    }
  },
  "cells": [
    {
      "cell_type": "markdown",
      "metadata": {
        "id": "view-in-github",
        "colab_type": "text"
      },
      "source": [
        "<a href=\"https://colab.research.google.com/github/shishirjain/Solution-Machine-Learning-using-python.-Manaranjan-Pradhan/blob/main/Chapter_3_probability_distribution_and_hypothesis_test.ipynb\" target=\"_parent\"><img src=\"https://colab.research.google.com/assets/colab-badge.svg\" alt=\"Open In Colab\"/></a>"
      ]
    },
    {
      "cell_type": "code",
      "metadata": {
        "id": "R-wFNmJl1Un5"
      },
      "source": [
        "import pandas as pd \n",
        "import numpy as np\n",
        "import math\n",
        "from scipy import stats"
      ],
      "execution_count": 21,
      "outputs": []
    },
    {
      "cell_type": "markdown",
      "metadata": {
        "id": "-nCozUfK4WJi"
      },
      "source": [
        "1. The number of customer returns in a retail chain per day follows a Poisson distribution at a rate of 25 returns per day. Write Python code to answer the following questions:\n",
        "(a) Calculate the probability that the number of returns exceeds 30 in a day.\n",
        "(b) If the chance of fraudulent return is 0.05, calculate the probability that there will be at least 2\n",
        "fraudulent returns in any given day."
      ]
    },
    {
      "cell_type": "code",
      "metadata": {
        "colab": {
          "base_uri": "https://localhost:8080/"
        },
        "id": "p3WFMsUN1ayu",
        "outputId": "140a8b65-642d-43cf-82f0-a0d43022b8ad"
      },
      "source": [
        "1-stats.poisson.cdf(30,25)"
      ],
      "execution_count": 4,
      "outputs": [
        {
          "output_type": "execute_result",
          "data": {
            "text/plain": [
              "0.1366911308473363"
            ]
          },
          "metadata": {
            "tags": []
          },
          "execution_count": 4
        }
      ]
    },
    {
      "cell_type": "code",
      "metadata": {
        "colab": {
          "base_uri": "https://localhost:8080/"
        },
        "id": "CnNehOjeGyYU",
        "outputId": "ce2cf566-cd09-45f7-fe1d-e74153c49aee"
      },
      "source": [
        "1-stats.poisson.cdf(2,.05*25)"
      ],
      "execution_count": 6,
      "outputs": [
        {
          "output_type": "execute_result",
          "data": {
            "text/plain": [
              "0.13153233451754875"
            ]
          },
          "metadata": {
            "tags": []
          },
          "execution_count": 6
        }
      ]
    },
    {
      "cell_type": "markdown",
      "metadata": {
        "id": "XaiNSIqBJtZC"
      },
      "source": [
        "2.  A student is applying for Masters course in 8 US Universities and believes that she has in each of \n",
        "the eight universities a constant and independent 0.42 probability of getting selected. Write code to answer the following questions:\n",
        "(a) What is the probability that she will get call from at least 3 universities?\n",
        "(b) What is the probability that she will get calls from exactly 4 universities?"
      ]
    },
    {
      "cell_type": "code",
      "metadata": {
        "colab": {
          "base_uri": "https://localhost:8080/"
        },
        "id": "OYOqn1CKHucq",
        "outputId": "af12a752-8444-42b6-fd66-cc40303d425e"
      },
      "source": [
        "1-stats.binom.cdf(3,8,.42)"
      ],
      "execution_count": 7,
      "outputs": [
        {
          "output_type": "execute_result",
          "data": {
            "text/plain": [
              "0.45265884031065606"
            ]
          },
          "metadata": {
            "tags": []
          },
          "execution_count": 7
        }
      ]
    },
    {
      "cell_type": "code",
      "metadata": {
        "colab": {
          "base_uri": "https://localhost:8080/"
        },
        "id": "Q_-NTHtILRdQ",
        "outputId": "e1883bbd-c8ee-4e77-ceb6-7343b6723e02"
      },
      "source": [
        "stats.binom.pmf(4,8,.42)"
      ],
      "execution_count": 8,
      "outputs": [
        {
          "output_type": "execute_result",
          "data": {
            "text/plain": [
              "0.2464944673605121"
            ]
          },
          "metadata": {
            "tags": []
          },
          "execution_count": 8
        }
      ]
    },
    {
      "cell_type": "markdown",
      "metadata": {
        "id": "w5B24MCrMJUe"
      },
      "source": [
        "3. The time-of-failure of a machine follows exponential distribution with mean time between failures (MTBF) estimated to be 85 hrs. Write code to answer the following questions:\n",
        "(a) Calculate the probability that the system will fail before 85 hrs.\n",
        "(b) Calculate the probability that it will not fail up to 150 hrs."
      ]
    },
    {
      "cell_type": "code",
      "metadata": {
        "colab": {
          "base_uri": "https://localhost:8080/"
        },
        "id": "wcHzn7kuLf7r",
        "outputId": "ab1c69be-1644-4c60-88b8-13e3d47f5c24"
      },
      "source": [
        "stats.expon.cdf(85,loc=1/85,scale=85)"
      ],
      "execution_count": 9,
      "outputs": [
        {
          "output_type": "execute_result",
          "data": {
            "text/plain": [
              "0.6320696377349755"
            ]
          },
          "metadata": {
            "tags": []
          },
          "execution_count": 9
        }
      ]
    },
    {
      "cell_type": "code",
      "metadata": {
        "colab": {
          "base_uri": "https://localhost:8080/"
        },
        "id": "Ltm4WIMbOH57",
        "outputId": "4524aaa2-bfa9-4c1e-e872-77c097b19441"
      },
      "source": [
        "1-stats.expon.cdf(150,loc=1/85,scale=85)"
      ],
      "execution_count": 11,
      "outputs": [
        {
          "output_type": "execute_result",
          "data": {
            "text/plain": [
              "0.17126084522766882"
            ]
          },
          "metadata": {
            "tags": []
          },
          "execution_count": 11
        }
      ]
    },
    {
      "cell_type": "markdown",
      "metadata": {
        "id": "9ytYKUF-Plsn"
      },
      "source": [
        "4. As per a survey on use of pesticides among 1000 farmers in grape farming for around 10 acres of grape farmland, it was found that the grape farmers spray 38 liters of pesticides in a week on an aver- age with the corresponding standard deviation of 5 liters. Assume that the pesticide spray per week follows a normal distribution. Write code to answer the following questions:\n",
        "(a) What proportion of the farmers is spraying more than 50 liters of pesticide in a week? (b) What proportion of farmers is spraying less than 10 liters?\n",
        "(c) What proportion of farmers is spraying between 30 liters and 60 liters?"
      ]
    },
    {
      "cell_type": "code",
      "metadata": {
        "colab": {
          "base_uri": "https://localhost:8080/"
        },
        "id": "OdBD51izOS1S",
        "outputId": "fd469d88-cb8d-4820-be5b-e868451a0d29"
      },
      "source": [
        "1-stats.norm.cdf(50,loc=38,scale=5)"
      ],
      "execution_count": 13,
      "outputs": [
        {
          "output_type": "execute_result",
          "data": {
            "text/plain": [
              "0.008197535924596155"
            ]
          },
          "metadata": {
            "tags": []
          },
          "execution_count": 13
        }
      ]
    },
    {
      "cell_type": "code",
      "metadata": {
        "colab": {
          "base_uri": "https://localhost:8080/"
        },
        "id": "X1ZeljvppDeb",
        "outputId": "e36098e3-f50a-4e03-b8e0-74bb7f33c55e"
      },
      "source": [
        "stats.norm.cdf(10,loc=38,scale=5)"
      ],
      "execution_count": 15,
      "outputs": [
        {
          "output_type": "execute_result",
          "data": {
            "text/plain": [
              "1.0717590258310887e-08"
            ]
          },
          "metadata": {
            "tags": []
          },
          "execution_count": 15
        }
      ]
    },
    {
      "cell_type": "code",
      "metadata": {
        "colab": {
          "base_uri": "https://localhost:8080/"
        },
        "id": "GZgmXQTUrSbX",
        "outputId": "14870d2b-5600-4ea6-a6a3-1a4cee8c56ce"
      },
      "source": [
        "stats.norm.cdf(60,38,5)-stats.norm.cdf(30,38,5)"
      ],
      "execution_count": 16,
      "outputs": [
        {
          "output_type": "execute_result",
          "data": {
            "text/plain": [
              "0.9451952957565343"
            ]
          },
          "metadata": {
            "tags": []
          },
          "execution_count": 16
        }
      ]
    },
    {
      "cell_type": "markdown",
      "metadata": {
        "id": "3csrpF28t_Of"
      },
      "source": [
        "5. Abottlefillingmachinefillswaterinto5liters(5000cm3)bottles.Thecompanywantstotestthenull hypothesis that the average amount of water filled by the machine into the bottle is at least 5000 cm3. A random sample of 60 bottles coming out of the machine was selected and the exact contents of the selected bottles are recorded. The sample mean was 4,998.1 cm3. The population standard deviation is known from the experience to be 1.30 cm3. Assume that the population is normally distributed with the standard deviation of 1.30 cm3. Write code to test the hypothesis at a of 5%. Explain the results."
      ]
    },
    {
      "cell_type": "code",
      "metadata": {
        "colab": {
          "base_uri": "https://localhost:8080/"
        },
        "id": "LIIZtGmEr5QT",
        "outputId": "c5f2166f-5ea3-4f0d-a617-38087dc2a442"
      },
      "source": [
        "z_score=(4998.1-5000)/(1.3/math.sqrt(60))\n",
        "z_score"
      ],
      "execution_count": 22,
      "outputs": [
        {
          "output_type": "execute_result",
          "data": {
            "text/plain": [
              "-11.321028242757974"
            ]
          },
          "metadata": {
            "tags": []
          },
          "execution_count": 22
        }
      ]
    },
    {
      "cell_type": "code",
      "metadata": {
        "colab": {
          "base_uri": "https://localhost:8080/"
        },
        "id": "tlVnRh1F7B5s",
        "outputId": "ea794ab0-904d-471b-d8cb-986dc3cbace6"
      },
      "source": [
        "stats.norm.interval(0.95,4998.1,1.3)"
      ],
      "execution_count": 23,
      "outputs": [
        {
          "output_type": "execute_result",
          "data": {
            "text/plain": [
              "(4995.552046820098, 5000.647953179902)"
            ]
          },
          "metadata": {
            "tags": []
          },
          "execution_count": 23
        }
      ]
    },
    {
      "cell_type": "code",
      "metadata": {
        "colab": {
          "base_uri": "https://localhost:8080/"
        },
        "id": "-QeGZaff7m4T",
        "outputId": "bb3d39ad-556c-4e44-c15d-a34fa7fe915c"
      },
      "source": [
        "stats.norm.cdf(z_score)\n",
        "#since p value is less than 0.05 hence null hypothesis is rejected\n"
      ],
      "execution_count": 25,
      "outputs": [
        {
          "output_type": "execute_result",
          "data": {
            "text/plain": [
              "5.162682749978096e-30"
            ]
          },
          "metadata": {
            "tags": []
          },
          "execution_count": 25
        }
      ]
    },
    {
      "cell_type": "markdown",
      "metadata": {
        "id": "vfNoyzPCGcyl"
      },
      "source": [
        "6. A fabric manufacturer would like to understand the proportion of defective fabrics they produce. His  shop  floor  staff  have  been  stating  that  the  percentage  of  defective  is  not  more  than  18%.  He  would like to test whether the claim made by his shop floor staff is correct. He picked up a random  sample of 100 fabrics and found 22 defectives. Use a = 0.05 and write code to test the hypothesis that the percentage of defective components is less than 18%."
      ]
    },
    {
      "cell_type": "code",
      "metadata": {
        "colab": {
          "base_uri": "https://localhost:8080/"
        },
        "id": "pzI_iBII8J5u",
        "outputId": "4f4285a8-bf2f-49a3-ce05-9040aa119954"
      },
      "source": [
        "#Null Hypothesis :  p <= 0.18\n",
        "#Alternate hypothesis : p > 0.18\n",
        "\n",
        "#Assuming Normal Distribution : \n",
        "#n = 100\n",
        "#N(p,p(1-p)/n)\n",
        "#Confidence interval : [0,0.18+1.64*sqrt(0.18*0.82/100)]\n",
        "(0,0.18+(1.64*math.sqrt(0.18*0.82/100)))\n",
        "#.22 is in confidence interval range, we fail to reject null hypothesis\n"
      ],
      "execution_count": 79,
      "outputs": [
        {
          "output_type": "execute_result",
          "data": {
            "text/plain": [
              "(0, 0.24300674249633922)"
            ]
          },
          "metadata": {
            "tags": []
          },
          "execution_count": 79
        }
      ]
    },
    {
      "cell_type": "markdown",
      "metadata": {
        "id": "LAi0Vnj4QbEZ"
      },
      "source": [
        "7. Suppose that the makers of ABC batteries want to demonstrate that their battery lasts an average of at least 60 min longer than their competitor brand. Two independent random samples of 100 bat- teries of each kind are selected from both the brands, and the batteries are used continuously. The sample average life of ABC is found to be 450 min. The average life of competitor batteries is 368 min with the sample standard deviation of 82 min and 78 min, respectively. Frame a hypothesis and write the code to test ABC’s claim at 95% significance."
      ]
    },
    {
      "cell_type": "code",
      "metadata": {
        "colab": {
          "base_uri": "https://localhost:8080/"
        },
        "id": "Ezv2B1D7Gsjm",
        "outputId": "8d352b25-dc95-4619-e9fa-5da167d2d85c"
      },
      "source": [
        "z_score=((60)-(450-368))/math.sqrt(((82**2)+(78**2))/100)\n",
        "z_score,stats.norm.cdf(z_score)\n",
        "#p value is less than .05 therefore null hypothesis should be rejected"
      ],
      "execution_count": 32,
      "outputs": [
        {
          "output_type": "execute_result",
          "data": {
            "text/plain": [
              "(-1.9439362630699086, 0.025951568804375713)"
            ]
          },
          "metadata": {
            "tags": []
          },
          "execution_count": 32
        }
      ]
    },
    {
      "cell_type": "markdown",
      "metadata": {
        "id": "OizJBpZ0TnrG"
      },
      "source": [
        "8.  A training institute would like to check the effectiveness of their training programs and if the scores  of the people trained improve post the training. A sample of 30 students was taken and their scores were calculated before and after the training. File trainingscores.csv contains scores of the students before and after the training. Frame and write the code to test the hypothesis of training effectiveness  for the training institute."
      ]
    },
    {
      "cell_type": "code",
      "metadata": {
        "colab": {
          "base_uri": "https://localhost:8080/",
          "height": 235
        },
        "id": "FrQTzfhZRdOW",
        "outputId": "01dad57c-e1fa-4bdd-c22a-b0b307e98797"
      },
      "source": [
        "df=pd.read_csv('/content/trainingscores.csv',index_col='Student')\n",
        "df.head()"
      ],
      "execution_count": 38,
      "outputs": [
        {
          "output_type": "execute_result",
          "data": {
            "text/html": [
              "<div>\n",
              "<style scoped>\n",
              "    .dataframe tbody tr th:only-of-type {\n",
              "        vertical-align: middle;\n",
              "    }\n",
              "\n",
              "    .dataframe tbody tr th {\n",
              "        vertical-align: top;\n",
              "    }\n",
              "\n",
              "    .dataframe thead th {\n",
              "        text-align: right;\n",
              "    }\n",
              "</style>\n",
              "<table border=\"1\" class=\"dataframe\">\n",
              "  <thead>\n",
              "    <tr style=\"text-align: right;\">\n",
              "      <th></th>\n",
              "      <th>Score Before Training</th>\n",
              "      <th>Score After Training</th>\n",
              "    </tr>\n",
              "    <tr>\n",
              "      <th>Student</th>\n",
              "      <th></th>\n",
              "      <th></th>\n",
              "    </tr>\n",
              "  </thead>\n",
              "  <tbody>\n",
              "    <tr>\n",
              "      <th>1</th>\n",
              "      <td>30</td>\n",
              "      <td>77</td>\n",
              "    </tr>\n",
              "    <tr>\n",
              "      <th>2</th>\n",
              "      <td>57</td>\n",
              "      <td>79</td>\n",
              "    </tr>\n",
              "    <tr>\n",
              "      <th>3</th>\n",
              "      <td>97</td>\n",
              "      <td>46</td>\n",
              "    </tr>\n",
              "    <tr>\n",
              "      <th>4</th>\n",
              "      <td>94</td>\n",
              "      <td>44</td>\n",
              "    </tr>\n",
              "    <tr>\n",
              "      <th>5</th>\n",
              "      <td>WC</td>\n",
              "      <td>89</td>\n",
              "    </tr>\n",
              "  </tbody>\n",
              "</table>\n",
              "</div>"
            ],
            "text/plain": [
              "        Score Before Training  Score After Training\n",
              "Student                                            \n",
              "1                          30                    77\n",
              "2                          57                    79\n",
              "3                          97                    46\n",
              "4                          94                    44\n",
              "5                          WC                    89"
            ]
          },
          "metadata": {
            "tags": []
          },
          "execution_count": 38
        }
      ]
    },
    {
      "cell_type": "code",
      "metadata": {
        "colab": {
          "base_uri": "https://localhost:8080/"
        },
        "id": "V03wMFvWUOI3",
        "outputId": "0cc236d9-1579-4566-c7d9-2cdb006d3a56"
      },
      "source": [
        "df.info()"
      ],
      "execution_count": 40,
      "outputs": [
        {
          "output_type": "stream",
          "text": [
            "<class 'pandas.core.frame.DataFrame'>\n",
            "Int64Index: 30 entries, 1 to 30\n",
            "Data columns (total 2 columns):\n",
            " #   Column                 Non-Null Count  Dtype \n",
            "---  ------                 --------------  ----- \n",
            " 0   Score Before Training  30 non-null     object\n",
            " 1   Score After Training   30 non-null     int64 \n",
            "dtypes: int64(1), object(1)\n",
            "memory usage: 720.0+ bytes\n"
          ],
          "name": "stdout"
        }
      ]
    },
    {
      "cell_type": "code",
      "metadata": {
        "id": "m3Cj0x4rUUvB"
      },
      "source": [
        "df.drop(df[df['Score Before Training']=='WC'].index,axis=0,inplace=True)"
      ],
      "execution_count": 47,
      "outputs": []
    },
    {
      "cell_type": "code",
      "metadata": {
        "id": "u8MKuRnBVOXY"
      },
      "source": [
        "df['Score Before Training']=df['Score Before Training'].astype('int')"
      ],
      "execution_count": 52,
      "outputs": []
    },
    {
      "cell_type": "code",
      "metadata": {
        "colab": {
          "base_uri": "https://localhost:8080/"
        },
        "id": "REg6_jARVbJo",
        "outputId": "038c0219-893a-4d9d-f2af-fc4a2126a47f"
      },
      "source": [
        "df.info()"
      ],
      "execution_count": 54,
      "outputs": [
        {
          "output_type": "stream",
          "text": [
            "<class 'pandas.core.frame.DataFrame'>\n",
            "Int64Index: 29 entries, 1 to 30\n",
            "Data columns (total 2 columns):\n",
            " #   Column                 Non-Null Count  Dtype\n",
            "---  ------                 --------------  -----\n",
            " 0   Score Before Training  29 non-null     int64\n",
            " 1   Score After Training   29 non-null     int64\n",
            "dtypes: int64(2)\n",
            "memory usage: 696.0 bytes\n"
          ],
          "name": "stdout"
        }
      ]
    },
    {
      "cell_type": "code",
      "metadata": {
        "colab": {
          "base_uri": "https://localhost:8080/"
        },
        "id": "JnjWAetCTiwa",
        "outputId": "6e94ad53-53cc-44bd-ce55-71bd44de1f09"
      },
      "source": [
        "stats.ttest_rel(df['Score Before Training'],df['Score After Training'])\n",
        "#P_value is more than 0.05, hence they are part of same distribution.So, there is no change after training"
      ],
      "execution_count": 56,
      "outputs": [
        {
          "output_type": "execute_result",
          "data": {
            "text/plain": [
              "Ttest_relResult(statistic=-1.736432649785126, pvalue=0.09347987807999412)"
            ]
          },
          "metadata": {
            "tags": []
          },
          "execution_count": 56
        }
      ]
    },
    {
      "cell_type": "code",
      "metadata": {
        "id": "UmU7ZcnRUH6u"
      },
      "source": [
        ""
      ],
      "execution_count": null,
      "outputs": []
    }
  ]
}