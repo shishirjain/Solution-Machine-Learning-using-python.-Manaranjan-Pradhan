{
  "nbformat": 4,
  "nbformat_minor": 0,
  "metadata": {
    "colab": {
      "name": "Chapter 4 Linear regression Machine Learning using Python by Manaranjan Pradhan.pdf",
      "provenance": [],
      "authorship_tag": "ABX9TyPCskTJgb5Du5T13nv9bOuB",
      "include_colab_link": true
    },
    "kernelspec": {
      "name": "python3",
      "display_name": "Python 3"
    },
    "language_info": {
      "name": "python"
    }
  },
  "cells": [
    {
      "cell_type": "markdown",
      "metadata": {
        "id": "view-in-github",
        "colab_type": "text"
      },
      "source": [
        "<a href=\"https://colab.research.google.com/github/shishirjain/Solution-Machine-Learning-using-python.-Manaranjan-Pradhan/blob/main/Chapter_4_Linear_regression_Machine_Learning_using_Python_by_Manaranjan_Pradhan_pdf.ipynb\" target=\"_parent\"><img src=\"https://colab.research.google.com/assets/colab-badge.svg\" alt=\"Open In Colab\"/></a>"
      ]
    },
    {
      "cell_type": "code",
      "metadata": {
        "id": "yOIFzF-6etIS"
      },
      "source": [
        "import pandas as pd\n",
        "import numpy as np\n",
        "import matplotlib.pyplot as plt\n",
        "%matplotlib inline\n",
        "import seaborn as sns"
      ],
      "execution_count": 56,
      "outputs": []
    },
    {
      "cell_type": "markdown",
      "metadata": {
        "id": "rdCXgJKs6qAN"
      },
      "source": [
        "The dataset country.csv contains Corruption  Perception  Index  and  Gini  Index  of  20  countries.  Corruption Perception Index close to 100 indicates low corruption and close to 0 indicates high cor- ruption. Gini Index is a measure of income distribution among citizens of a country (high Gini indi- cates high inequality). Corruption Index is taken from Transparency International, while Gini Index  is sourced from Wikipedia."
      ]
    },
    {
      "cell_type": "code",
      "metadata": {
        "colab": {
          "base_uri": "https://localhost:8080/",
          "height": 204
        },
        "id": "MfyqfF4L6VSJ",
        "outputId": "cf0a8ae5-7824-4913-871b-ea626cc14cc9"
      },
      "source": [
        "df=pd.read_csv('/content/country.csv')\n",
        "df.head()"
      ],
      "execution_count": 57,
      "outputs": [
        {
          "output_type": "execute_result",
          "data": {
            "text/html": [
              "<div>\n",
              "<style scoped>\n",
              "    .dataframe tbody tr th:only-of-type {\n",
              "        vertical-align: middle;\n",
              "    }\n",
              "\n",
              "    .dataframe tbody tr th {\n",
              "        vertical-align: top;\n",
              "    }\n",
              "\n",
              "    .dataframe thead th {\n",
              "        text-align: right;\n",
              "    }\n",
              "</style>\n",
              "<table border=\"1\" class=\"dataframe\">\n",
              "  <thead>\n",
              "    <tr style=\"text-align: right;\">\n",
              "      <th></th>\n",
              "      <th>Country</th>\n",
              "      <th>Corruption_Index</th>\n",
              "      <th>Gini_Index</th>\n",
              "    </tr>\n",
              "  </thead>\n",
              "  <tbody>\n",
              "    <tr>\n",
              "      <th>0</th>\n",
              "      <td>Hong Kong</td>\n",
              "      <td>77</td>\n",
              "      <td>53.7</td>\n",
              "    </tr>\n",
              "    <tr>\n",
              "      <th>1</th>\n",
              "      <td>South Korea</td>\n",
              "      <td>53</td>\n",
              "      <td>30.2</td>\n",
              "    </tr>\n",
              "    <tr>\n",
              "      <th>2</th>\n",
              "      <td>China</td>\n",
              "      <td>40</td>\n",
              "      <td>46.2</td>\n",
              "    </tr>\n",
              "    <tr>\n",
              "      <th>3</th>\n",
              "      <td>Italy</td>\n",
              "      <td>47</td>\n",
              "      <td>32.7</td>\n",
              "    </tr>\n",
              "    <tr>\n",
              "      <th>4</th>\n",
              "      <td>Mongolia</td>\n",
              "      <td>38</td>\n",
              "      <td>36.5</td>\n",
              "    </tr>\n",
              "  </tbody>\n",
              "</table>\n",
              "</div>"
            ],
            "text/plain": [
              "       Country  Corruption_Index  Gini_Index\n",
              "0    Hong Kong                77        53.7\n",
              "1  South Korea                53        30.2\n",
              "2        China                40        46.2\n",
              "3        Italy                47        32.7\n",
              "4     Mongolia                38        36.5"
            ]
          },
          "metadata": {
            "tags": []
          },
          "execution_count": 57
        }
      ]
    },
    {
      "cell_type": "markdown",
      "metadata": {
        "id": "0wNtnvvb7bnJ"
      },
      "source": [
        "1. Develop a simple linear regression model (Y = b0 + b1X) between corruption perception index (Y) and Gini index (X). What is the change in the corruption perception index for every one unit increase in Gini index? \n"
      ]
    },
    {
      "cell_type": "code",
      "metadata": {
        "colab": {
          "base_uri": "https://localhost:8080/"
        },
        "id": "7IC--WHv6f-P",
        "outputId": "b1b40329-dcac-4abe-818f-3ec0da43f766"
      },
      "source": [
        "m=sum((df.Gini_Index-df.Gini_Index.mean())*(df.Corruption_Index-df.Corruption_Index.mean()))/sum((df.Gini_Index-df.Gini_Index.mean())**2)\n",
        "c=df.Corruption_Index.mean()-m*df.Gini_Index.mean()\n",
        "m,c\n",
        "#For every one unit increase in Gini index, Corruption dexre"
      ],
      "execution_count": 58,
      "outputs": [
        {
          "output_type": "execute_result",
          "data": {
            "text/plain": [
              "(-1.2951931651912736, 106.69501055874485)"
            ]
          },
          "metadata": {
            "tags": []
          },
          "execution_count": 58
        }
      ]
    },
    {
      "cell_type": "code",
      "metadata": {
        "colab": {
          "base_uri": "https://localhost:8080/",
          "height": 296
        },
        "id": "ZHE6fMMqCPNq",
        "outputId": "a1577be2-360e-44be-a428-8b90abca555a"
      },
      "source": [
        "plt.scatter(df.Corruption_Index,df.Gini_Index,color='r')\n",
        "plt.xlabel(\"Gini\")\n",
        "plt.ylabel(\"Corruption\")\n",
        "plt.plot(df['Gini_Index'],m*df['Gini_Index']+c)"
      ],
      "execution_count": 59,
      "outputs": [
        {
          "output_type": "execute_result",
          "data": {
            "text/plain": [
              "[<matplotlib.lines.Line2D at 0x7fd56726b2d0>]"
            ]
          },
          "metadata": {
            "tags": []
          },
          "execution_count": 59
        },
        {
          "output_type": "display_data",
          "data": {
            "image/png": "[encoded data removed]",
            "text/plain": [
              "<Figure size 432x288 with 1 Axes>"
            ]
          },
          "metadata": {
            "tags": [],
            "needs_background": "light"
          }
        }
      ]
    },
    {
      "cell_type": "code",
      "metadata": {
        "id": "dlZIIEyRCXsn",
        "colab": {
          "base_uri": "https://localhost:8080/",
          "height": 204
        },
        "outputId": "966021e2-7369-48ea-9b25-a572f8477a8c"
      },
      "source": [
        "import statsmodels.api as sm\n",
        "X=sm.add_constant(df['Gini_Index'])\n",
        "X.head()"
      ],
      "execution_count": 60,
      "outputs": [
        {
          "output_type": "execute_result",
          "data": {
            "text/html": [
              "<div>\n",
              "<style scoped>\n",
              "    .dataframe tbody tr th:only-of-type {\n",
              "        vertical-align: middle;\n",
              "    }\n",
              "\n",
              "    .dataframe tbody tr th {\n",
              "        vertical-align: top;\n",
              "    }\n",
              "\n",
              "    .dataframe thead th {\n",
              "        text-align: right;\n",
              "    }\n",
              "</style>\n",
              "<table border=\"1\" class=\"dataframe\">\n",
              "  <thead>\n",
              "    <tr style=\"text-align: right;\">\n",
              "      <th></th>\n",
              "      <th>const</th>\n",
              "      <th>Gini_Index</th>\n",
              "    </tr>\n",
              "  </thead>\n",
              "  <tbody>\n",
              "    <tr>\n",
              "      <th>0</th>\n",
              "      <td>1.0</td>\n",
              "      <td>53.7</td>\n",
              "    </tr>\n",
              "    <tr>\n",
              "      <th>1</th>\n",
              "      <td>1.0</td>\n",
              "      <td>30.2</td>\n",
              "    </tr>\n",
              "    <tr>\n",
              "      <th>2</th>\n",
              "      <td>1.0</td>\n",
              "      <td>46.2</td>\n",
              "    </tr>\n",
              "    <tr>\n",
              "      <th>3</th>\n",
              "      <td>1.0</td>\n",
              "      <td>32.7</td>\n",
              "    </tr>\n",
              "    <tr>\n",
              "      <th>4</th>\n",
              "      <td>1.0</td>\n",
              "      <td>36.5</td>\n",
              "    </tr>\n",
              "  </tbody>\n",
              "</table>\n",
              "</div>"
            ],
            "text/plain": [
              "   const  Gini_Index\n",
              "0    1.0        53.7\n",
              "1    1.0        30.2\n",
              "2    1.0        46.2\n",
              "3    1.0        32.7\n",
              "4    1.0        36.5"
            ]
          },
          "metadata": {
            "tags": []
          },
          "execution_count": 60
        }
      ]
    },
    {
      "cell_type": "code",
      "metadata": {
        "id": "81wQojaAX6Jz"
      },
      "source": [
        "Y=df['Corruption_Index']"
      ],
      "execution_count": 61,
      "outputs": []
    },
    {
      "cell_type": "code",
      "metadata": {
        "id": "hU510kO7YCRh"
      },
      "source": [
        "country_lm=sm.OLS(Y,X).fit()"
      ],
      "execution_count": 62,
      "outputs": []
    },
    {
      "cell_type": "code",
      "metadata": {
        "colab": {
          "base_uri": "https://localhost:8080/"
        },
        "id": "-XtWkPvhYOGs",
        "outputId": "808a3678-9f4b-49ac-d790-99a392753c78"
      },
      "source": [
        "country_lm.params"
      ],
      "execution_count": 63,
      "outputs": [
        {
          "output_type": "execute_result",
          "data": {
            "text/plain": [
              "const         106.695011\n",
              "Gini_Index     -1.295193\n",
              "dtype: float64"
            ]
          },
          "metadata": {
            "tags": []
          },
          "execution_count": 63
        }
      ]
    },
    {
      "cell_type": "markdown",
      "metadata": {
        "id": "BQ7GFZ07ZFsr"
      },
      "source": [
        "2.  What proportion of the variation in corruption perception index is explained by Gini index? "
      ]
    },
    {
      "cell_type": "code",
      "metadata": {
        "id": "pq0dSxIYYbdO"
      },
      "source": [
        "Y_predict=country_lm.predict(X)"
      ],
      "execution_count": 64,
      "outputs": []
    },
    {
      "cell_type": "code",
      "metadata": {
        "id": "UZmcqvM1aOcf"
      },
      "source": [
        "from sklearn.metrics import r2_score"
      ],
      "execution_count": 65,
      "outputs": []
    },
    {
      "cell_type": "code",
      "metadata": {
        "colab": {
          "base_uri": "https://localhost:8080/"
        },
        "id": "NmREWnwIezE6",
        "outputId": "f2ec80f1-6bd4-43eb-cd8e-1fe22990b7f8"
      },
      "source": [
        "r2_score=r2_score(Y,Y_predict)\n",
        "r2_score\n",
        "#21.5% of the variation in corruption perception index is explained by Gini index?"
      ],
      "execution_count": 66,
      "outputs": [
        {
          "output_type": "execute_result",
          "data": {
            "text/plain": [
              "0.21521228052302832"
            ]
          },
          "metadata": {
            "tags": []
          },
          "execution_count": 66
        }
      ]
    },
    {
      "cell_type": "code",
      "metadata": {
        "colab": {
          "base_uri": "https://localhost:8080/"
        },
        "id": "POXv6Ryif2sL",
        "outputId": "6a7b9e68-b732-47d9-d9c8-a13c88eb5a30"
      },
      "source": [
        "len(df)"
      ],
      "execution_count": 67,
      "outputs": [
        {
          "output_type": "execute_result",
          "data": {
            "text/plain": [
              "20"
            ]
          },
          "metadata": {
            "tags": []
          },
          "execution_count": 67
        }
      ]
    },
    {
      "cell_type": "code",
      "metadata": {
        "colab": {
          "base_uri": "https://localhost:8080/"
        },
        "id": "pPkiVVeefFNX",
        "outputId": "2dd56786-2882-4452-b676-7241afd23444"
      },
      "source": [
        "n=len(X)\n",
        "k=1\n",
        "adj_r2_score=1-((1-r2_score)*(n-1)/(n-k-1))\n",
        "adj_r2_score\n"
      ],
      "execution_count": 68,
      "outputs": [
        {
          "output_type": "execute_result",
          "data": {
            "text/plain": [
              "0.1716129627743076"
            ]
          },
          "metadata": {
            "tags": []
          },
          "execution_count": 68
        }
      ]
    },
    {
      "cell_type": "markdown",
      "metadata": {
        "id": "4HVF-8gRhqVF"
      },
      "source": [
        "3.  Is there a statistically significant relationship between corruption perception index and Gini index \n",
        "at alpha value 0.1? "
      ]
    },
    {
      "cell_type": "code",
      "metadata": {
        "id": "6zB8VjSygXWN",
        "colab": {
          "base_uri": "https://localhost:8080/"
        },
        "outputId": "fac2feab-4f76-4686-f84a-580f6b2cf23d"
      },
      "source": [
        "country_lm.summary2(alpha=0.1),\n",
        "#The p-value for the t-test is ~0.04 which indicates that there is a statistically significant relationship(at alpha=0.1)between the features"
      ],
      "execution_count": 69,
      "outputs": [
        {
          "output_type": "execute_result",
          "data": {
            "text/plain": [
              "(<class 'statsmodels.iolib.summary2.Summary'>\n",
              " \"\"\"\n",
              "                  Results: Ordinary least squares\n",
              " =================================================================\n",
              " Model:              OLS              Adj. R-squared:     0.172   \n",
              " Dependent Variable: Corruption_Index AIC:                175.9296\n",
              " Date:               2021-06-01 08:58 BIC:                177.9211\n",
              " No. Observations:   20               Log-Likelihood:     -85.965 \n",
              " Df Model:           1                F-statistic:        4.936   \n",
              " Df Residuals:       18               Prob (F-statistic): 0.0394  \n",
              " R-squared:          0.215            Scale:              352.12  \n",
              " ------------------------------------------------------------------\n",
              "              Coef.    Std.Err.     t     P>|t|    [0.05    0.95]  \n",
              " ------------------------------------------------------------------\n",
              " const       106.6950   20.6822   5.1588  0.0001  70.8307  142.5593\n",
              " Gini_Index   -1.2952    0.5830  -2.2217  0.0394  -2.3061   -0.2843\n",
              " -----------------------------------------------------------------\n",
              " Omnibus:              1.213        Durbin-Watson:           1.192\n",
              " Prob(Omnibus):        0.545        Jarque-Bera (JB):        1.005\n",
              " Skew:                 0.333        Prob(JB):                0.605\n",
              " Kurtosis:             2.127        Condition No.:           175  \n",
              " =================================================================\n",
              " \n",
              " \"\"\",)"
            ]
          },
          "metadata": {
            "tags": []
          },
          "execution_count": 69
        }
      ]
    },
    {
      "cell_type": "code",
      "metadata": {
        "colab": {
          "base_uri": "https://localhost:8080/",
          "height": 402
        },
        "id": "Nz-dlSzPbqhv",
        "outputId": "02943a95-de67-4e44-fc5b-117299cc9946"
      },
      "source": [
        "sns.distplot(df['Corruption_Index'],color='b'),sns.distplot(df['Gini_Index'],color='r')"
      ],
      "execution_count": 72,
      "outputs": [
        {
          "output_type": "stream",
          "text": [
            "/usr/local/lib/python3.7/dist-packages/seaborn/distributions.py:2557: FutureWarning: `distplot` is a deprecated function and will be removed in a future version. Please adapt your code to use either `displot` (a figure-level function with similar flexibility) or `histplot` (an axes-level function for histograms).\n",
            "  warnings.warn(msg, FutureWarning)\n",
            "/usr/local/lib/python3.7/dist-packages/seaborn/distributions.py:2557: FutureWarning: `distplot` is a deprecated function and will be removed in a future version. Please adapt your code to use either `displot` (a figure-level function with similar flexibility) or `histplot` (an axes-level function for histograms).\n",
            "  warnings.warn(msg, FutureWarning)\n"
          ],
          "name": "stderr"
        },
        {
          "output_type": "execute_result",
          "data": {
            "text/plain": [
              "(<matplotlib.axes._subplots.AxesSubplot at 0x7fd569d87710>,\n",
              " <matplotlib.axes._subplots.AxesSubplot at 0x7fd569d87710>)"
            ]
          },
          "metadata": {
            "tags": []
          },
          "execution_count": 72
        },
        {
          "output_type": "display_data",
          "data": {
            "image/png": "[encoded data removed]",
            "text/plain": [
              "<Figure size 432x288 with 1 Axes>"
            ]
          },
          "metadata": {
            "tags": [],
            "needs_background": "light"
          }
        }
      ]
    },
    {
      "cell_type": "markdown",
      "metadata": {
        "id": "WoQbu9yG4E1b"
      },
      "source": [
        "\n",
        "4. Calculate the 95% confidence interval for the regression coefficient b1."
      ]
    },
    {
      "cell_type": "code",
      "metadata": {
        "colab": {
          "base_uri": "https://localhost:8080/"
        },
        "id": "9iC1IotOchBS",
        "outputId": "0fd7fd4f-6e83-4ff0-ea84-d189fd86bdae"
      },
      "source": [
        "country_lm.summary2(alpha=0.05),\n",
        "#https://www.geeksforgeeks.org/interpreting-the-results-of-linear-regression-using-ols-summary/\n",
        "#C.I=[-2.5200,\t-0.0704]"
      ],
      "execution_count": 76,
      "outputs": [
        {
          "output_type": "execute_result",
          "data": {
            "text/plain": [
              "(<class 'statsmodels.iolib.summary2.Summary'>\n",
              " \"\"\"\n",
              "                  Results: Ordinary least squares\n",
              " =================================================================\n",
              " Model:              OLS              Adj. R-squared:     0.172   \n",
              " Dependent Variable: Corruption_Index AIC:                175.9296\n",
              " Date:               2021-06-01 09:32 BIC:                177.9211\n",
              " No. Observations:   20               Log-Likelihood:     -85.965 \n",
              " Df Model:           1                F-statistic:        4.936   \n",
              " Df Residuals:       18               Prob (F-statistic): 0.0394  \n",
              " R-squared:          0.215            Scale:              352.12  \n",
              " ------------------------------------------------------------------\n",
              "              Coef.    Std.Err.     t     P>|t|    [0.025   0.975] \n",
              " ------------------------------------------------------------------\n",
              " const       106.6950   20.6822   5.1588  0.0001  63.2433  150.1468\n",
              " Gini_Index   -1.2952    0.5830  -2.2217  0.0394  -2.5200   -0.0704\n",
              " -----------------------------------------------------------------\n",
              " Omnibus:              1.213        Durbin-Watson:           1.192\n",
              " Prob(Omnibus):        0.545        Jarque-Bera (JB):        1.005\n",
              " Skew:                 0.333        Prob(JB):                0.605\n",
              " Kurtosis:             2.127        Condition No.:           175  \n",
              " =================================================================\n",
              " \n",
              " \"\"\",)"
            ]
          },
          "metadata": {
            "tags": []
          },
          "execution_count": 76
        }
      ]
    },
    {
      "cell_type": "markdown",
      "metadata": {
        "id": "3-Epe5UtsRYB"
      },
      "source": [
        "DAD hospital data **NOT AVAILABLE** if you find it, let me know at shishirjain.sj@gmail.com\n"
      ]
    },
    {
      "cell_type": "code",
      "metadata": {
        "id": "OPCs_VVPkvwV"
      },
      "source": [
        ""
      ],
      "execution_count": 71,
      "outputs": []
    }
  ]
}